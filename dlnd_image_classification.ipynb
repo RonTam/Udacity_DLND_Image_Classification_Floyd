{
 "cells": [
  {
   "cell_type": "markdown",
   "metadata": {
    "collapsed": true,
    "deletable": true,
    "editable": true
   },
   "source": [
    "# Image Classification\n",
    "In this project, you'll classify images from the [CIFAR-10 dataset](https://www.cs.toronto.edu/~kriz/cifar.html).  The dataset consists of airplanes, dogs, cats, and other objects. You'll preprocess the images, then train a convolutional neural network on all the samples. The images need to be normalized and the labels need to be one-hot encoded.  You'll get to apply what you learned and build a convolutional, max pooling, dropout, and fully connected layers.  At the end, you'll get to see your neural network's predictions on the sample images.\n",
    "## Get the Data\n",
    "Run the following cell to download the [CIFAR-10 dataset for python](https://www.cs.toronto.edu/~kriz/cifar-10-python.tar.gz)."
   ]
  },
  {
   "cell_type": "code",
   "execution_count": 1,
   "metadata": {
    "collapsed": false,
    "deletable": true,
    "editable": true
   },
   "outputs": [
    {
     "name": "stdout",
     "output_type": "stream",
     "text": [
      "All files found!\n"
     ]
    }
   ],
   "source": [
    "\"\"\"\n",
    "DON'T MODIFY ANYTHING IN THIS CELL THAT IS BELOW THIS LINE\n",
    "\"\"\"\n",
    "from urllib.request import urlretrieve\n",
    "from os.path import isfile, isdir\n",
    "from tqdm import tqdm\n",
    "import problem_unittests as tests\n",
    "import tarfile\n",
    "\n",
    "cifar10_dataset_folder_path = 'cifar-10-batches-py'\n",
    "\n",
    "# Use Floyd's cifar-10 dataset if present\n",
    "floyd_cifar10_location = '/input/cifar-10/python.tar.gz'\n",
    "if isfile(floyd_cifar10_location):\n",
    "    tar_gz_path = floyd_cifar10_location\n",
    "else:\n",
    "    tar_gz_path = 'cifar-10-python.tar.gz'\n",
    "\n",
    "class DLProgress(tqdm):\n",
    "    last_block = 0\n",
    "\n",
    "    def hook(self, block_num=1, block_size=1, total_size=None):\n",
    "        self.total = total_size\n",
    "        self.update((block_num - self.last_block) * block_size)\n",
    "        self.last_block = block_num\n",
    "\n",
    "if not isfile(tar_gz_path):\n",
    "    with DLProgress(unit='B', unit_scale=True, miniters=1, desc='CIFAR-10 Dataset') as pbar:\n",
    "        urlretrieve(\n",
    "            'https://www.cs.toronto.edu/~kriz/cifar-10-python.tar.gz',\n",
    "            tar_gz_path,\n",
    "            pbar.hook)\n",
    "\n",
    "if not isdir(cifar10_dataset_folder_path):\n",
    "    with tarfile.open(tar_gz_path) as tar:\n",
    "        tar.extractall()\n",
    "        tar.close()\n",
    "\n",
    "\n",
    "tests.test_folder_path(cifar10_dataset_folder_path)"
   ]
  },
  {
   "cell_type": "markdown",
   "metadata": {
    "deletable": true,
    "editable": true
   },
   "source": [
    "## Explore the Data\n",
    "The dataset is broken into batches to prevent your machine from running out of memory.  The CIFAR-10 dataset consists of 5 batches, named `data_batch_1`, `data_batch_2`, etc.. Each batch contains the labels and images that are one of the following:\n",
    "* airplane\n",
    "* automobile\n",
    "* bird\n",
    "* cat\n",
    "* deer\n",
    "* dog\n",
    "* frog\n",
    "* horse\n",
    "* ship\n",
    "* truck\n",
    "\n",
    "Understanding a dataset is part of making predictions on the data.  Play around with the code cell below by changing the `batch_id` and `sample_id`. The `batch_id` is the id for a batch (1-5). The `sample_id` is the id for a image and label pair in the batch.\n",
    "\n",
    "Ask yourself \"What are all possible labels?\", \"What is the range of values for the image data?\", \"Are the labels in order or random?\".  Answers to questions like these will help you preprocess the data and end up with better predictions."
   ]
  },
  {
   "cell_type": "code",
   "execution_count": 2,
   "metadata": {
    "collapsed": false,
    "deletable": true,
    "editable": true
   },
   "outputs": [
    {
     "name": "stdout",
     "output_type": "stream",
     "text": [
      "\n",
      "Stats of batch 1:\n",
      "Samples: 10000\n",
      "Label Counts: {0: 1005, 1: 974, 2: 1032, 3: 1016, 4: 999, 5: 937, 6: 1030, 7: 1001, 8: 1025, 9: 981}\n",
      "First 20 Labels: [6, 9, 9, 4, 1, 1, 2, 7, 8, 3, 4, 7, 7, 2, 9, 9, 9, 3, 2, 6]\n",
      "\n",
      "Example of Image 5:\n",
      "Image - Min Value: 0 Max Value: 252\n",
      "Image - Shape: (32, 32, 3)\n",
      "Label - Label Id: 1 Name: automobile\n"
     ]
    },
    {
     "data": {
      "image/png": "[encoded data removed]",
      "text/plain": [
       "<matplotlib.figure.Figure at 0x7f7ef62ab320>"
      ]
     },
     "metadata": {
      "image/png": {
       "height": 250,
       "width": 253
      }
     },
     "output_type": "display_data"
    }
   ],
   "source": [
    "%matplotlib inline\n",
    "%config InlineBackend.figure_format = 'retina'\n",
    "\n",
    "import helper\n",
    "import numpy as np\n",
    "\n",
    "# Explore the dataset\n",
    "batch_id = 1\n",
    "sample_id = 5\n",
    "helper.display_stats(cifar10_dataset_folder_path, batch_id, sample_id)"
   ]
  },
  {
   "cell_type": "markdown",
   "metadata": {
    "deletable": true,
    "editable": true
   },
   "source": [
    "## Implement Preprocess Functions\n",
    "### Normalize\n",
    "In the cell below, implement the `normalize` function to take in image data, `x`, and return it as a normalized Numpy array. The values should be in the range of 0 to 1, inclusive.  The return object should be the same shape as `x`."
   ]
  },
  {
   "cell_type": "code",
   "execution_count": 3,
   "metadata": {
    "collapsed": false,
    "deletable": true,
    "editable": true
   },
   "outputs": [
    {
     "name": "stdout",
     "output_type": "stream",
     "text": [
      "Tests Passed\n"
     ]
    }
   ],
   "source": [
    "def normalize(x):\n",
    "    \"\"\"\n",
    "    Normalize a list of sample image data in the range of 0 to 1\n",
    "    : x: List of image data.  The image shape is (32, 32, 3)\n",
    "    : return: Numpy array of normalize data\n",
    "    \"\"\"\n",
    "    return x/255.\n",
    "\n",
    "\n",
    "\"\"\"\n",
    "DON'T MODIFY ANYTHING IN THIS CELL THAT IS BELOW THIS LINE\n",
    "\"\"\"\n",
    "tests.test_normalize(normalize)"
   ]
  },
  {
   "cell_type": "markdown",
   "metadata": {
    "deletable": true,
    "editable": true
   },
   "source": [
    "### One-hot encode\n",
    "Just like the previous code cell, you'll be implementing a function for preprocessing.  This time, you'll implement the `one_hot_encode` function. The input, `x`, are a list of labels.  Implement the function to return the list of labels as One-Hot encoded Numpy array.  The possible values for labels are 0 to 9. The one-hot encoding function should return the same encoding for each value between each call to `one_hot_encode`.  Make sure to save the map of encodings outside the function.\n",
    "\n",
    "Hint: Don't reinvent the wheel."
   ]
  },
  {
   "cell_type": "code",
   "execution_count": 4,
   "metadata": {
    "collapsed": false,
    "deletable": true,
    "editable": true
   },
   "outputs": [
    {
     "name": "stdout",
     "output_type": "stream",
     "text": [
      "Tests Passed\n"
     ]
    }
   ],
   "source": [
    "def one_hot_encode(x):\n",
    "    \"\"\"\n",
    "    One hot encode a list of sample labels. Return a one-hot encoded vector for each label.\n",
    "    : x: List of sample Labels\n",
    "    : return: Numpy array of one-hot encoded labels\n",
    "    \"\"\"\n",
    "    ar = np.zeros((len(x), 10))    \n",
    "    for i in range(len(x)):\n",
    "        ar[i][x[i]] = 1\n",
    "    return ar\n",
    "\n",
    "\n",
    "\"\"\"\n",
    "DON'T MODIFY ANYTHING IN THIS CELL THAT IS BELOW THIS LINE\n",
    "\"\"\"\n",
    "tests.test_one_hot_encode(one_hot_encode)"
   ]
  },
  {
   "cell_type": "markdown",
   "metadata": {
    "deletable": true,
    "editable": true
   },
   "source": [
    "### Randomize Data\n",
    "As you saw from exploring the data above, the order of the samples are randomized.  It doesn't hurt to randomize it again, but you don't need to for this dataset."
   ]
  },
  {
   "cell_type": "markdown",
   "metadata": {
    "deletable": true,
    "editable": true
   },
   "source": [
    "## Preprocess all the data and save it\n",
    "Running the code cell below will preprocess all the CIFAR-10 data and save it to file. The code below also uses 10% of the training data for validation."
   ]
  },
  {
   "cell_type": "code",
   "execution_count": 5,
   "metadata": {
    "collapsed": false,
    "deletable": true,
    "editable": true
   },
   "outputs": [],
   "source": [
    "\"\"\"\n",
    "DON'T MODIFY ANYTHING IN THIS CELL\n",
    "\"\"\"\n",
    "# Preprocess Training, Validation, and Testing Data\n",
    "helper.preprocess_and_save_data(cifar10_dataset_folder_path, normalize, one_hot_encode)"
   ]
  },
  {
   "cell_type": "markdown",
   "metadata": {
    "deletable": true,
    "editable": true
   },
   "source": [
    "# Check Point\n",
    "This is your first checkpoint.  If you ever decide to come back to this notebook or have to restart the notebook, you can start from here.  The preprocessed data has been saved to disk."
   ]
  },
  {
   "cell_type": "code",
   "execution_count": 6,
   "metadata": {
    "collapsed": true,
    "deletable": true,
    "editable": true
   },
   "outputs": [],
   "source": [
    "\"\"\"\n",
    "DON'T MODIFY ANYTHING IN THIS CELL\n",
    "\"\"\"\n",
    "import pickle\n",
    "import problem_unittests as tests\n",
    "import helper\n",
    "\n",
    "# Load the Preprocessed Validation data\n",
    "valid_features, valid_labels = pickle.load(open('preprocess_validation.p', mode='rb'))"
   ]
  },
  {
   "cell_type": "markdown",
   "metadata": {
    "deletable": true,
    "editable": true
   },
   "source": [
    "## Build the network\n",
    "For the neural network, you'll build each layer into a function.  Most of the code you've seen has been outside of functions. To test your code more thoroughly, we require that you put each layer in a function.  This allows us to give you better feedback and test for simple mistakes using our unittests before you submit your project.\n",
    "\n",
    ">**Note:** If you're finding it hard to dedicate enough time for this course each week, we've provided a small shortcut to this part of the project. In the next couple of problems, you'll have the option to use classes from the [TensorFlow Layers](https://www.tensorflow.org/api_docs/python/tf/layers) or [TensorFlow Layers (contrib)](https://www.tensorflow.org/api_guides/python/contrib.layers) packages to build each layer, except the layers you build in the \"Convolutional and Max Pooling Layer\" section.  TF Layers is similar to Keras's and TFLearn's abstraction to layers, so it's easy to pickup.\n",
    "\n",
    ">However, if you would like to get the most out of this course, try to solve all the problems _without_ using anything from the TF Layers packages. You **can** still use classes from other packages that happen to have the same name as ones you find in TF Layers! For example, instead of using the TF Layers version of the `conv2d` class, [tf.layers.conv2d](https://www.tensorflow.org/api_docs/python/tf/layers/conv2d), you would want to use the TF Neural Network version of `conv2d`, [tf.nn.conv2d](https://www.tensorflow.org/api_docs/python/tf/nn/conv2d). \n",
    "\n",
    "Let's begin!\n",
    "\n",
    "### Input\n",
    "The neural network needs to read the image data, one-hot encoded labels, and dropout keep probability. Implement the following functions\n",
    "* Implement `neural_net_image_input`\n",
    " * Return a [TF Placeholder](https://www.tensorflow.org/api_docs/python/tf/placeholder)\n",
    " * Set the shape using `image_shape` with batch size set to `None`.\n",
    " * Name the TensorFlow placeholder \"x\" using the TensorFlow `name` parameter in the [TF Placeholder](https://www.tensorflow.org/api_docs/python/tf/placeholder).\n",
    "* Implement `neural_net_label_input`\n",
    " * Return a [TF Placeholder](https://www.tensorflow.org/api_docs/python/tf/placeholder)\n",
    " * Set the shape using `n_classes` with batch size set to `None`.\n",
    " * Name the TensorFlow placeholder \"y\" using the TensorFlow `name` parameter in the [TF Placeholder](https://www.tensorflow.org/api_docs/python/tf/placeholder).\n",
    "* Implement `neural_net_keep_prob_input`\n",
    " * Return a [TF Placeholder](https://www.tensorflow.org/api_docs/python/tf/placeholder) for dropout keep probability.\n",
    " * Name the TensorFlow placeholder \"keep_prob\" using the TensorFlow `name` parameter in the [TF Placeholder](https://www.tensorflow.org/api_docs/python/tf/placeholder).\n",
    "\n",
    "These names will be used at the end of the project to load your saved model.\n",
    "\n",
    "Note: `None` for shapes in TensorFlow allow for a dynamic size."
   ]
  },
  {
   "cell_type": "code",
   "execution_count": 7,
   "metadata": {
    "collapsed": false,
    "deletable": true,
    "editable": true
   },
   "outputs": [
    {
     "name": "stdout",
     "output_type": "stream",
     "text": [
      "Image Input Tests Passed.\n",
      "Label Input Tests Passed.\n",
      "Keep Prob Tests Passed.\n"
     ]
    }
   ],
   "source": [
    "import tensorflow as tf\n",
    "\n",
    "def neural_net_image_input(image_shape):\n",
    "    \"\"\"\n",
    "    Return a Tensor for a batch of image input\n",
    "    : image_shape: Shape of the images\n",
    "    : return: Tensor for image input.\n",
    "    \"\"\"\n",
    "    return tf.placeholder(dtype=tf.float32, \n",
    "                          shape=[None,image_shape[0], image_shape[1], image_shape[2]], \n",
    "                          name=\"x\")\n",
    "\n",
    "\n",
    "def neural_net_label_input(n_classes):\n",
    "    \"\"\"\n",
    "    Return a Tensor for a batch of label input\n",
    "    : n_classes: Number of classes\n",
    "    : return: Tensor for label input.\n",
    "    \"\"\"\n",
    "    return tf.placeholder(dtype=tf.float32, \n",
    "                          shape=[None, n_classes], \n",
    "                          name=\"y\")\n",
    "\n",
    "\n",
    "def neural_net_keep_prob_input():\n",
    "    \"\"\"\n",
    "    Return a Tensor for keep probability\n",
    "    : return: Tensor for keep probability.\n",
    "    \"\"\"\n",
    "    return tf.placeholder(dtype=tf.float32, \n",
    "                          name=\"keep_prob\")\n",
    "\n",
    "\n",
    "\"\"\"\n",
    "DON'T MODIFY ANYTHING IN THIS CELL THAT IS BELOW THIS LINE\n",
    "\"\"\"\n",
    "tf.reset_default_graph()\n",
    "tests.test_nn_image_inputs(neural_net_image_input)\n",
    "tests.test_nn_label_inputs(neural_net_label_input)\n",
    "tests.test_nn_keep_prob_inputs(neural_net_keep_prob_input)"
   ]
  },
  {
   "cell_type": "markdown",
   "metadata": {
    "deletable": true,
    "editable": true
   },
   "source": [
    "### Convolution and Max Pooling Layer\n",
    "Convolution layers have a lot of success with images. For this code cell, you should implement the function `conv2d_maxpool` to apply convolution then max pooling:\n",
    "* Create the weight and bias using `conv_ksize`, `conv_num_outputs` and the shape of `x_tensor`.\n",
    "* Apply a convolution to `x_tensor` using weight and `conv_strides`.\n",
    " * We recommend you use same padding, but you're welcome to use any padding.\n",
    "* Add bias\n",
    "* Add a nonlinear activation to the convolution.\n",
    "* Apply Max Pooling using `pool_ksize` and `pool_strides`.\n",
    " * We recommend you use same padding, but you're welcome to use any padding.\n",
    "\n",
    "**Note:** You **can't** use [TensorFlow Layers](https://www.tensorflow.org/api_docs/python/tf/layers) or [TensorFlow Layers (contrib)](https://www.tensorflow.org/api_guides/python/contrib.layers) for **this** layer, but you can still use TensorFlow's [Neural Network](https://www.tensorflow.org/api_docs/python/tf/nn) package. You may still use the shortcut option for all the **other** layers."
   ]
  },
  {
   "cell_type": "code",
   "execution_count": 60,
   "metadata": {
    "collapsed": false,
    "deletable": true,
    "editable": true
   },
   "outputs": [
    {
     "name": "stdout",
     "output_type": "stream",
     "text": [
      "Tests Passed\n",
      "0:00:00.010436\n"
     ]
    }
   ],
   "source": [
    "import datetime\n",
    "\n",
    "start = datetime.datetime.now()\n",
    "\n",
    "def conv2d_maxpool(x_tensor, conv_num_outputs, conv_ksize, conv_strides, pool_ksize, pool_strides):\n",
    "    \"\"\"\n",
    "    Apply convolution then max pooling to x_tensor\n",
    "    :param x_tensor: TensorFlow Tensor\n",
    "    :param conv_num_outputs: Number of outputs for the convolutional layer\n",
    "    :param conv_ksize: kernal size 2-D Tuple for the convolutional layer\n",
    "    :param conv_strides: Stride 2-D Tuple for convolution\n",
    "    :param pool_ksize: kernal size 2-D Tuple for pool\n",
    "    :param pool_strides: Stride 2-D Tuple for pool\n",
    "    : return: A tensor that represents convolution and max pooling of x_tensor\n",
    "    \"\"\"\n",
    "    # Create the weight and bias using conv_ksize, conv_num_outputs and the shape of x_tensor\n",
    "    color_channels = x_tensor.shape[3].value\n",
    "    weight = tf.Variable(tf.truncated_normal([conv_ksize[0], conv_ksize[1], color_channels, conv_num_outputs], stddev=0.05))\n",
    "    bias = tf.Variable(tf.zeros([conv_num_outputs]))\n",
    "    \n",
    "    # Apply a convolution to x_tensor using weight and conv_strides\n",
    "    conv_layer = tf.nn.conv2d(x_tensor, \n",
    "                              weight, \n",
    "                              strides = [1, conv_strides[0], conv_strides[1], 1], \n",
    "                              padding='SAME')\n",
    "    \n",
    "    # Add bias\n",
    "    conv_layer = tf.nn.bias_add(conv_layer, bias)\n",
    "    \n",
    "    # Add a nonlinear activation to the convolution\n",
    "    conv_layer = tf.nn.relu(conv_layer)\n",
    "    \n",
    "    # Apply Max Pooling using pool_ksize and pool_strides\n",
    "    pool_layer = tf.nn.max_pool(conv_layer,\n",
    "                                ksize = [1, pool_ksize[0], pool_ksize[1], 1],\n",
    "                                strides = [1, pool_strides[0], pool_strides[1], 1], \n",
    "                                padding='SAME')\n",
    "\n",
    "    return pool_layer\n",
    "\n",
    "\"\"\"\n",
    "DON'T MODIFY ANYTHING IN THIS CELL THAT IS BELOW THIS LINE\n",
    "\"\"\"\n",
    "tests.test_con_pool(conv2d_maxpool)\n",
    "\n",
    "\n",
    "end = datetime.datetime.now()\n",
    "diff = end - start\n",
    "print(diff)"
   ]
  },
  {
   "cell_type": "markdown",
   "metadata": {
    "deletable": true,
    "editable": true
   },
   "source": [
    "### Flatten Layer\n",
    "Implement the `flatten` function to change the dimension of `x_tensor` from a 4-D tensor to a 2-D tensor.  The output should be the shape (*Batch Size*, *Flattened Image Size*). Shortcut option: you can use classes from the [TensorFlow Layers](https://www.tensorflow.org/api_docs/python/tf/layers) or [TensorFlow Layers (contrib)](https://www.tensorflow.org/api_guides/python/contrib.layers) packages for this layer. For more of a challenge, only use other TensorFlow packages."
   ]
  },
  {
   "cell_type": "code",
   "execution_count": 61,
   "metadata": {
    "collapsed": false,
    "deletable": true,
    "editable": true
   },
   "outputs": [
    {
     "name": "stdout",
     "output_type": "stream",
     "text": [
      "Tests Passed\n"
     ]
    }
   ],
   "source": [
    "def flatten(x_tensor):\n",
    "    \"\"\"\n",
    "    Flatten x_tensor to (Batch Size, Flattened Image Size)\n",
    "    : x_tensor: A tensor of size (Batch Size, ...), where ... are the image dimensions.\n",
    "    : return: A tensor of size (Batch Size, Flattened Image Size).\n",
    "    \"\"\"\n",
    "    return tf.contrib.layers.flatten(x_tensor)\n",
    "\n",
    "\"\"\"\n",
    "DON'T MODIFY ANYTHING IN THIS CELL THAT IS BELOW THIS LINE\n",
    "\"\"\"\n",
    "tests.test_flatten(flatten)"
   ]
  },
  {
   "cell_type": "markdown",
   "metadata": {
    "deletable": true,
    "editable": true
   },
   "source": [
    "### Fully-Connected Layer\n",
    "Implement the `fully_conn` function to apply a fully connected layer to `x_tensor` with the shape (*Batch Size*, *num_outputs*). Shortcut option: you can use classes from the [TensorFlow Layers](https://www.tensorflow.org/api_docs/python/tf/layers) or [TensorFlow Layers (contrib)](https://www.tensorflow.org/api_guides/python/contrib.layers) packages for this layer. For more of a challenge, only use other TensorFlow packages."
   ]
  },
  {
   "cell_type": "code",
   "execution_count": 62,
   "metadata": {
    "collapsed": false,
    "deletable": true,
    "editable": true
   },
   "outputs": [
    {
     "name": "stdout",
     "output_type": "stream",
     "text": [
      "Tests Passed\n"
     ]
    }
   ],
   "source": [
    "def fully_conn(x_tensor, num_outputs):\n",
    "    \"\"\"\n",
    "    Apply a fully connected layer to x_tensor using weight and bias\n",
    "    : x_tensor: A 2-D tensor where the first dimension is batch size.\n",
    "    : num_outputs: The number of output that the new tensor should be.\n",
    "    : return: A 2-D tensor where the second dimension is num_outputs.\n",
    "    \"\"\"\n",
    "    # TODO: Implement Function\n",
    "    return tf.contrib.layers.fully_connected(x_tensor, num_outputs)\n",
    "\n",
    "\"\"\"\n",
    "DON'T MODIFY ANYTHING IN THIS CELL THAT IS BELOW THIS LINE\n",
    "\"\"\"\n",
    "tests.test_fully_conn(fully_conn)"
   ]
  },
  {
   "cell_type": "markdown",
   "metadata": {
    "deletable": true,
    "editable": true
   },
   "source": [
    "### Output Layer\n",
    "Implement the `output` function to apply a fully connected layer to `x_tensor` with the shape (*Batch Size*, *num_outputs*). Shortcut option: you can use classes from the [TensorFlow Layers](https://www.tensorflow.org/api_docs/python/tf/layers) or [TensorFlow Layers (contrib)](https://www.tensorflow.org/api_guides/python/contrib.layers) packages for this layer. For more of a challenge, only use other TensorFlow packages.\n",
    "\n",
    "**Note:** Activation, softmax, or cross entropy should **not** be applied to this."
   ]
  },
  {
   "cell_type": "code",
   "execution_count": 63,
   "metadata": {
    "collapsed": false,
    "deletable": true,
    "editable": true
   },
   "outputs": [
    {
     "name": "stdout",
     "output_type": "stream",
     "text": [
      "Tests Passed\n"
     ]
    }
   ],
   "source": [
    "def output(x_tensor, num_outputs):\n",
    "    \"\"\"\n",
    "    Apply a output layer to x_tensor using weight and bias\n",
    "    : x_tensor: A 2-D tensor where the first dimension is batch size.\n",
    "    : num_outputs: The number of output that the new tensor should be.\n",
    "    : return: A 2-D tensor where the second dimension is num_outputs.\n",
    "    \"\"\"\n",
    "    # TODO: Implement Function\n",
    "    return tf.contrib.layers.linear(x_tensor, num_outputs)\n",
    "\n",
    "\"\"\"\n",
    "DON'T MODIFY ANYTHING IN THIS CELL THAT IS BELOW THIS LINE\n",
    "\"\"\"\n",
    "tests.test_output(output)"
   ]
  },
  {
   "cell_type": "markdown",
   "metadata": {
    "deletable": true,
    "editable": true
   },
   "source": [
    "### Create Convolutional Model\n",
    "Implement the function `conv_net` to create a convolutional neural network model. The function takes in a batch of images, `x`, and outputs logits.  Use the layers you created above to create this model:\n",
    "\n",
    "* Apply 1, 2, or 3 Convolution and Max Pool layers\n",
    "* Apply a Flatten Layer\n",
    "* Apply 1, 2, or 3 Fully Connected Layers\n",
    "* Apply an Output Layer\n",
    "* Return the output\n",
    "* Apply [TensorFlow's Dropout](https://www.tensorflow.org/api_docs/python/tf/nn/dropout) to one or more layers in the model using `keep_prob`. "
   ]
  },
  {
   "cell_type": "code",
   "execution_count": 146,
   "metadata": {
    "collapsed": false,
    "deletable": true,
    "editable": true
   },
   "outputs": [
    {
     "name": "stdout",
     "output_type": "stream",
     "text": [
      "Neural Network Built!\n",
      "0:00:00.276632\n"
     ]
    }
   ],
   "source": [
    "start = datetime.datetime.now()\n",
    "\n",
    "def conv_net(x, keep_prob):\n",
    "    \"\"\"\n",
    "    Create a convolutional neural network model\n",
    "    : x: Placeholder tensor that holds image data.\n",
    "    : keep_prob: Placeholder tensor that hold dropout keep probability.\n",
    "    : return: Tensor that represents logits\n",
    "    \"\"\"\n",
    "\n",
    "    # TODO: Apply 1, 2, or 3 Convolution and Max Pool layers\n",
    "    #    Play around with different number of outputs, kernel size and stride\n",
    "    # Function Definition from Above:\n",
    "    #    conv2d_maxpool(x_tensor, conv_num_outputs, conv_ksize, conv_strides, pool_ksize, pool_strides)\n",
    "\n",
    "    conv = conv2d_maxpool(x,    32,  (8,8), (1,1), (2,2), (2,2))\n",
    "    conv = conv2d_maxpool(conv, 64,  (8,8), (1,1), (2,2), (2,2))\n",
    "    conv = conv2d_maxpool(conv, 256, (2,2), (1,1), (2,2), (1,1))\n",
    "    \n",
    "    \n",
    "    # TODO: Apply a Flatten Layer\n",
    "    # Function Definition from Above:\n",
    "    #   flatten(x_tensor)\n",
    "    flat_layer = flatten(conv)    \n",
    "\n",
    "    # TODO: Apply 1, 2, or 3 Fully Connected Layers\n",
    "    #    Play around with different number of outputs\n",
    "    # Function Definition from Above:\n",
    "    #   fully_conn(x_tensor, num_outputs)\n",
    "    fully_connected = fully_conn(flat_layer, 128)\n",
    "    fully_connected = fully_conn(fully_connected, 64)\n",
    "    fully_connected = tf.nn.dropout(fully_connected, keep_prob)\n",
    "\n",
    "    # TODO: Apply an Output Layer\n",
    "    #    Set this to the number of classes\n",
    "    # Function Definition from Above:\n",
    "    #   output(x_tensor, num_outputs)\n",
    "    output_layer = output(fully_connected, 10)\n",
    "    \n",
    "    # TODO: return output\n",
    "    return output_layer\n",
    "\n",
    "\"\"\"\n",
    "DON'T MODIFY ANYTHING IN THIS CELL THAT IS BELOW THIS LINE\n",
    "\"\"\"\n",
    "\n",
    "##############################\n",
    "## Build the Neural Network ##\n",
    "##############################\n",
    "\n",
    "# Remove previous weights, bias, inputs, etc..\n",
    "tf.reset_default_graph()\n",
    "\n",
    "# Inputs\n",
    "x = neural_net_image_input((32, 32, 3))\n",
    "y = neural_net_label_input(10)\n",
    "keep_prob = neural_net_keep_prob_input()\n",
    "\n",
    "# Model\n",
    "logits = conv_net(x, keep_prob)\n",
    "\n",
    "# Name logits Tensor, so that is can be loaded from disk after training\n",
    "logits = tf.identity(logits, name='logits')\n",
    "\n",
    "# Loss and Optimizer\n",
    "cost = tf.reduce_mean(tf.nn.softmax_cross_entropy_with_logits(logits=logits, labels=y))\n",
    "optimizer = tf.train.AdamOptimizer().minimize(cost)\n",
    "\n",
    "# Accuracy\n",
    "correct_pred = tf.equal(tf.argmax(logits, 1), tf.argmax(y, 1))\n",
    "accuracy = tf.reduce_mean(tf.cast(correct_pred, tf.float32), name='accuracy')\n",
    "\n",
    "tests.test_conv_net(conv_net)\n",
    "\n",
    "end = datetime.datetime.now()\n",
    "diff = end - start\n",
    "print(diff)"
   ]
  },
  {
   "cell_type": "markdown",
   "metadata": {
    "deletable": true,
    "editable": true
   },
   "source": [
    "## Train the Neural Network\n",
    "### Single Optimization\n",
    "Implement the function `train_neural_network` to do a single optimization.  The optimization should use `optimizer` to optimize in `session` with a `feed_dict` of the following:\n",
    "* `x` for image input\n",
    "* `y` for labels\n",
    "* `keep_prob` for keep probability for dropout\n",
    "\n",
    "This function will be called for each batch, so `tf.global_variables_initializer()` has already been called.\n",
    "\n",
    "Note: Nothing needs to be returned. This function is only optimizing the neural network."
   ]
  },
  {
   "cell_type": "code",
   "execution_count": 147,
   "metadata": {
    "collapsed": false,
    "deletable": true,
    "editable": true
   },
   "outputs": [
    {
     "name": "stdout",
     "output_type": "stream",
     "text": [
      "Tests Passed\n",
      "0:00:00.007768\n"
     ]
    }
   ],
   "source": [
    "start = datetime.datetime.now()\n",
    "\n",
    "def train_neural_network(session, optimizer, keep_probability, feature_batch, label_batch):\n",
    "    \"\"\"\n",
    "    Optimize the session on a batch of images and labels\n",
    "    : session: Current TensorFlow session\n",
    "    : optimizer: TensorFlow optimizer function\n",
    "    : keep_probability: keep probability\n",
    "    : feature_batch: Batch of Numpy image data\n",
    "    : label_batch: Batch of Numpy label data\n",
    "    \"\"\"\n",
    "    session.run(optimizer, feed_dict = {x: feature_batch,\n",
    "                                        y: label_batch,\n",
    "                                        keep_prob: keep_probability})\n",
    "\n",
    "\"\"\"\n",
    "DON'T MODIFY ANYTHING IN THIS CELL THAT IS BELOW THIS LINE\n",
    "\"\"\"\n",
    "tests.test_train_nn(train_neural_network)\n",
    "\n",
    "end = datetime.datetime.now()\n",
    "diff = end - start\n",
    "print(diff)"
   ]
  },
  {
   "cell_type": "markdown",
   "metadata": {
    "deletable": true,
    "editable": true
   },
   "source": [
    "### Show Stats\n",
    "Implement the function `print_stats` to print loss and validation accuracy.  Use the global variables `valid_features` and `valid_labels` to calculate validation accuracy.  Use a keep probability of `1.0` to calculate the loss and validation accuracy."
   ]
  },
  {
   "cell_type": "code",
   "execution_count": 148,
   "metadata": {
    "collapsed": false,
    "deletable": true,
    "editable": true
   },
   "outputs": [
    {
     "name": "stdout",
     "output_type": "stream",
     "text": [
      "0:00:00.000179\n"
     ]
    }
   ],
   "source": [
    "start = datetime.datetime.now()\n",
    "\n",
    "def print_stats(session, feature_batch, label_batch, cost, accuracy):\n",
    "    \"\"\"\n",
    "    Print information about loss and validation accuracy\n",
    "    : session: Current TensorFlow session\n",
    "    : feature_batch: Batch of Numpy image data\n",
    "    : label_batch: Batch of Numpy label data\n",
    "    : cost: TensorFlow cost function\n",
    "    : accuracy: TensorFlow accuracy function\n",
    "    \"\"\"\n",
    "    loss = session.run(cost, feed_dict = {x: feature_batch,\n",
    "                                          y: label_batch,\n",
    "                                          keep_prob: 1.0})\n",
    "    valid_acc = session.run(accuracy, feed_dict = {x: valid_features,\n",
    "                                                   y: valid_labels,\n",
    "                                                   keep_prob:1.0})\n",
    "    \n",
    "    print('Loss: {:>10.4f} Validation Accuracy: {:.6f}'.format(loss, valid_acc))\n",
    "\n",
    "end = datetime.datetime.now()\n",
    "diff = end - start\n",
    "print(diff)"
   ]
  },
  {
   "cell_type": "markdown",
   "metadata": {
    "deletable": true,
    "editable": true
   },
   "source": [
    "### Hyperparameters\n",
    "Tune the following parameters:\n",
    "* Set `epochs` to the number of iterations until the network stops learning or start overfitting\n",
    "* Set `batch_size` to the highest number that your machine has memory for.  Most people set them to common sizes of memory:\n",
    " * 64\n",
    " * 128\n",
    " * 256\n",
    " * ...\n",
    "* Set `keep_probability` to the probability of keeping a node using dropout"
   ]
  },
  {
   "cell_type": "code",
   "execution_count": 151,
   "metadata": {
    "collapsed": true,
    "deletable": true,
    "editable": true
   },
   "outputs": [],
   "source": [
    "# TODO: Tune Parameters\n",
    "epochs = 50\n",
    "batch_size = 1028\n",
    "keep_probability = .9"
   ]
  },
  {
   "cell_type": "markdown",
   "metadata": {
    "deletable": true,
    "editable": true
   },
   "source": [
    "### Train on a Single CIFAR-10 Batch\n",
    "Instead of training the neural network on all the CIFAR-10 batches of data, let's use a single batch. This should save time while you iterate on the model to get a better accuracy.  Once the final validation accuracy is 50% or greater, run the model on all the data in the next section."
   ]
  },
  {
   "cell_type": "code",
   "execution_count": 152,
   "metadata": {
    "collapsed": false,
    "deletable": true,
    "editable": true
   },
   "outputs": [
    {
     "name": "stdout",
     "output_type": "stream",
     "text": [
      "Checking the Training on a Single Batch...\n",
      "Epoch  1, CIFAR-10 Batch 1:  Loss:     2.2900 Validation Accuracy: 0.120800\n",
      "Epoch  2, CIFAR-10 Batch 1:  Loss:     2.1900 Validation Accuracy: 0.181600\n",
      "Epoch  3, CIFAR-10 Batch 1:  Loss:     2.0378 Validation Accuracy: 0.279000\n",
      "Epoch  4, CIFAR-10 Batch 1:  Loss:     1.9258 Validation Accuracy: 0.331600\n",
      "Epoch  5, CIFAR-10 Batch 1:  Loss:     1.8249 Validation Accuracy: 0.354600\n",
      "Epoch  6, CIFAR-10 Batch 1:  Loss:     1.7010 Validation Accuracy: 0.392000\n",
      "Epoch  7, CIFAR-10 Batch 1:  Loss:     1.6278 Validation Accuracy: 0.398200\n",
      "Epoch  8, CIFAR-10 Batch 1:  Loss:     1.6009 Validation Accuracy: 0.417000\n",
      "Epoch  9, CIFAR-10 Batch 1:  Loss:     1.5443 Validation Accuracy: 0.411200\n",
      "Epoch 10, CIFAR-10 Batch 1:  Loss:     1.5028 Validation Accuracy: 0.421800\n",
      "Epoch 11, CIFAR-10 Batch 1:  Loss:     1.4891 Validation Accuracy: 0.435600\n",
      "Epoch 12, CIFAR-10 Batch 1:  Loss:     1.3950 Validation Accuracy: 0.462800\n",
      "Epoch 13, CIFAR-10 Batch 1:  Loss:     1.3335 Validation Accuracy: 0.477200\n",
      "Epoch 14, CIFAR-10 Batch 1:  Loss:     1.2963 Validation Accuracy: 0.493600\n",
      "Epoch 15, CIFAR-10 Batch 1:  Loss:     1.2534 Validation Accuracy: 0.484000\n",
      "Epoch 16, CIFAR-10 Batch 1:  Loss:     1.2248 Validation Accuracy: 0.497200\n",
      "Epoch 17, CIFAR-10 Batch 1:  Loss:     1.1733 Validation Accuracy: 0.513000\n",
      "Epoch 18, CIFAR-10 Batch 1:  Loss:     1.1077 Validation Accuracy: 0.527600\n",
      "Epoch 19, CIFAR-10 Batch 1:  Loss:     1.1105 Validation Accuracy: 0.527800\n",
      "Epoch 20, CIFAR-10 Batch 1:  Loss:     1.1387 Validation Accuracy: 0.500600\n",
      "Epoch 21, CIFAR-10 Batch 1:  Loss:     1.0423 Validation Accuracy: 0.534000\n",
      "Epoch 22, CIFAR-10 Batch 1:  Loss:     0.9806 Validation Accuracy: 0.545000\n",
      "Epoch 23, CIFAR-10 Batch 1:  Loss:     0.9626 Validation Accuracy: 0.545800\n",
      "Epoch 24, CIFAR-10 Batch 1:  Loss:     0.9657 Validation Accuracy: 0.538600\n",
      "Epoch 25, CIFAR-10 Batch 1:  Loss:     0.8948 Validation Accuracy: 0.543600\n",
      "Epoch 26, CIFAR-10 Batch 1:  Loss:     0.8194 Validation Accuracy: 0.558800\n",
      "Epoch 27, CIFAR-10 Batch 1:  Loss:     0.8404 Validation Accuracy: 0.538600\n",
      "Epoch 28, CIFAR-10 Batch 1:  Loss:     0.7969 Validation Accuracy: 0.551000\n",
      "Epoch 29, CIFAR-10 Batch 1:  Loss:     0.8682 Validation Accuracy: 0.518600\n",
      "Epoch 30, CIFAR-10 Batch 1:  Loss:     0.7855 Validation Accuracy: 0.552000\n",
      "Epoch 31, CIFAR-10 Batch 1:  Loss:     0.6980 Validation Accuracy: 0.569600\n",
      "Epoch 32, CIFAR-10 Batch 1:  Loss:     0.6414 Validation Accuracy: 0.570400\n",
      "Epoch 33, CIFAR-10 Batch 1:  Loss:     0.6334 Validation Accuracy: 0.566000\n",
      "Epoch 34, CIFAR-10 Batch 1:  Loss:     0.5844 Validation Accuracy: 0.569800\n",
      "Epoch 35, CIFAR-10 Batch 1:  Loss:     0.6155 Validation Accuracy: 0.552800\n",
      "Epoch 36, CIFAR-10 Batch 1:  Loss:     0.5813 Validation Accuracy: 0.559800\n",
      "Epoch 37, CIFAR-10 Batch 1:  Loss:     0.5125 Validation Accuracy: 0.573400\n",
      "Epoch 38, CIFAR-10 Batch 1:  Loss:     0.4988 Validation Accuracy: 0.553000\n",
      "Epoch 39, CIFAR-10 Batch 1:  Loss:     0.4637 Validation Accuracy: 0.561800\n",
      "Epoch 40, CIFAR-10 Batch 1:  Loss:     0.5269 Validation Accuracy: 0.539400\n",
      "Epoch 41, CIFAR-10 Batch 1:  Loss:     0.4787 Validation Accuracy: 0.549800\n",
      "Epoch 42, CIFAR-10 Batch 1:  Loss:     0.5067 Validation Accuracy: 0.545400\n",
      "Epoch 43, CIFAR-10 Batch 1:  Loss:     0.3921 Validation Accuracy: 0.574600\n",
      "Epoch 44, CIFAR-10 Batch 1:  Loss:     0.3931 Validation Accuracy: 0.565200\n",
      "Epoch 45, CIFAR-10 Batch 1:  Loss:     0.3299 Validation Accuracy: 0.569800\n",
      "Epoch 46, CIFAR-10 Batch 1:  Loss:     0.3017 Validation Accuracy: 0.584000\n",
      "Epoch 47, CIFAR-10 Batch 1:  Loss:     0.2844 Validation Accuracy: 0.574200\n",
      "Epoch 48, CIFAR-10 Batch 1:  Loss:     0.2600 Validation Accuracy: 0.579000\n",
      "Epoch 49, CIFAR-10 Batch 1:  Loss:     0.2107 Validation Accuracy: 0.589800\n",
      "Epoch 50, CIFAR-10 Batch 1:  Loss:     0.2339 Validation Accuracy: 0.567800\n",
      "0:01:56.609869\n"
     ]
    }
   ],
   "source": [
    "start = datetime.datetime.now()\n",
    "\n",
    "\"\"\"\n",
    "DON'T MODIFY ANYTHING IN THIS CELL\n",
    "\"\"\"\n",
    "print('Checking the Training on a Single Batch...')\n",
    "with tf.Session() as sess:\n",
    "    # Initializing the variables\n",
    "    sess.run(tf.global_variables_initializer())\n",
    "    \n",
    "    # Training cycle\n",
    "    for epoch in range(epochs):\n",
    "        batch_i = 1\n",
    "        for batch_features, batch_labels in helper.load_preprocess_training_batch(batch_i, batch_size):\n",
    "            train_neural_network(sess, optimizer, keep_probability, batch_features, batch_labels)\n",
    "        print('Epoch {:>2}, CIFAR-10 Batch {}:  '.format(epoch + 1, batch_i), end='')\n",
    "        print_stats(sess, batch_features, batch_labels, cost, accuracy)\n",
    "        \n",
    "end = datetime.datetime.now()\n",
    "diff = end - start\n",
    "print(diff)"
   ]
  },
  {
   "cell_type": "markdown",
   "metadata": {
    "deletable": true,
    "editable": true
   },
   "source": [
    "### Fully Train the Model\n",
    "Now that you got a good accuracy with a single CIFAR-10 batch, try it with all five batches."
   ]
  },
  {
   "cell_type": "code",
   "execution_count": 153,
   "metadata": {
    "collapsed": false,
    "deletable": true,
    "editable": true
   },
   "outputs": [
    {
     "name": "stdout",
     "output_type": "stream",
     "text": [
      "Training...\n",
      "Epoch  1, CIFAR-10 Batch 1:  Loss:     2.2873 Validation Accuracy: 0.145400\n",
      "Epoch  1, CIFAR-10 Batch 2:  Loss:     2.1452 Validation Accuracy: 0.192000\n",
      "Epoch  1, CIFAR-10 Batch 3:  Loss:     1.8717 Validation Accuracy: 0.281400\n",
      "Epoch  1, CIFAR-10 Batch 4:  Loss:     1.8239 Validation Accuracy: 0.342600\n",
      "Epoch  1, CIFAR-10 Batch 5:  Loss:     1.7672 Validation Accuracy: 0.348800\n",
      "Epoch  2, CIFAR-10 Batch 1:  Loss:     1.7405 Validation Accuracy: 0.371600\n",
      "Epoch  2, CIFAR-10 Batch 2:  Loss:     1.6922 Validation Accuracy: 0.395200\n",
      "Epoch  2, CIFAR-10 Batch 3:  Loss:     1.5683 Validation Accuracy: 0.414000\n",
      "Epoch  2, CIFAR-10 Batch 4:  Loss:     1.5491 Validation Accuracy: 0.426200\n",
      "Epoch  2, CIFAR-10 Batch 5:  Loss:     1.5156 Validation Accuracy: 0.450000\n",
      "Epoch  3, CIFAR-10 Batch 1:  Loss:     1.4955 Validation Accuracy: 0.454000\n",
      "Epoch  3, CIFAR-10 Batch 2:  Loss:     1.4757 Validation Accuracy: 0.466000\n",
      "Epoch  3, CIFAR-10 Batch 3:  Loss:     1.3823 Validation Accuracy: 0.474600\n",
      "Epoch  3, CIFAR-10 Batch 4:  Loss:     1.3620 Validation Accuracy: 0.488400\n",
      "Epoch  3, CIFAR-10 Batch 5:  Loss:     1.3274 Validation Accuracy: 0.507600\n",
      "Epoch  4, CIFAR-10 Batch 1:  Loss:     1.3374 Validation Accuracy: 0.499600\n",
      "Epoch  4, CIFAR-10 Batch 2:  Loss:     1.3403 Validation Accuracy: 0.508800\n",
      "Epoch  4, CIFAR-10 Batch 3:  Loss:     1.2448 Validation Accuracy: 0.519200\n",
      "Epoch  4, CIFAR-10 Batch 4:  Loss:     1.2072 Validation Accuracy: 0.536400\n",
      "Epoch  4, CIFAR-10 Batch 5:  Loss:     1.2267 Validation Accuracy: 0.539400\n",
      "Epoch  5, CIFAR-10 Batch 1:  Loss:     1.1820 Validation Accuracy: 0.556400\n",
      "Epoch  5, CIFAR-10 Batch 2:  Loss:     1.2727 Validation Accuracy: 0.530400\n",
      "Epoch  5, CIFAR-10 Batch 3:  Loss:     1.1499 Validation Accuracy: 0.550400\n",
      "Epoch  5, CIFAR-10 Batch 4:  Loss:     1.1320 Validation Accuracy: 0.550200\n",
      "Epoch  5, CIFAR-10 Batch 5:  Loss:     1.1054 Validation Accuracy: 0.571400\n",
      "Epoch  6, CIFAR-10 Batch 1:  Loss:     1.0754 Validation Accuracy: 0.579400\n",
      "Epoch  6, CIFAR-10 Batch 2:  Loss:     1.1888 Validation Accuracy: 0.546800\n",
      "Epoch  6, CIFAR-10 Batch 3:  Loss:     1.1151 Validation Accuracy: 0.565600\n",
      "Epoch  6, CIFAR-10 Batch 4:  Loss:     1.0727 Validation Accuracy: 0.566800\n",
      "Epoch  6, CIFAR-10 Batch 5:  Loss:     1.0559 Validation Accuracy: 0.581600\n",
      "Epoch  7, CIFAR-10 Batch 1:  Loss:     1.0415 Validation Accuracy: 0.578400\n",
      "Epoch  7, CIFAR-10 Batch 2:  Loss:     1.0637 Validation Accuracy: 0.583400\n",
      "Epoch  7, CIFAR-10 Batch 3:  Loss:     1.0275 Validation Accuracy: 0.582400\n",
      "Epoch  7, CIFAR-10 Batch 4:  Loss:     0.9944 Validation Accuracy: 0.586800\n",
      "Epoch  7, CIFAR-10 Batch 5:  Loss:     0.9726 Validation Accuracy: 0.607400\n",
      "Epoch  8, CIFAR-10 Batch 1:  Loss:     0.9584 Validation Accuracy: 0.605200\n",
      "Epoch  8, CIFAR-10 Batch 2:  Loss:     0.9659 Validation Accuracy: 0.609800\n",
      "Epoch  8, CIFAR-10 Batch 3:  Loss:     0.9731 Validation Accuracy: 0.598400\n",
      "Epoch  8, CIFAR-10 Batch 4:  Loss:     0.9197 Validation Accuracy: 0.604800\n",
      "Epoch  8, CIFAR-10 Batch 5:  Loss:     0.9099 Validation Accuracy: 0.611400\n",
      "Epoch  9, CIFAR-10 Batch 1:  Loss:     0.9005 Validation Accuracy: 0.613800\n",
      "Epoch  9, CIFAR-10 Batch 2:  Loss:     0.9198 Validation Accuracy: 0.617200\n",
      "Epoch  9, CIFAR-10 Batch 3:  Loss:     0.8965 Validation Accuracy: 0.618600\n",
      "Epoch  9, CIFAR-10 Batch 4:  Loss:     0.8446 Validation Accuracy: 0.620400\n",
      "Epoch  9, CIFAR-10 Batch 5:  Loss:     0.8397 Validation Accuracy: 0.625400\n",
      "Epoch 10, CIFAR-10 Batch 1:  Loss:     0.8626 Validation Accuracy: 0.615000\n",
      "Epoch 10, CIFAR-10 Batch 2:  Loss:     0.9401 Validation Accuracy: 0.602400\n",
      "Epoch 10, CIFAR-10 Batch 3:  Loss:     0.8665 Validation Accuracy: 0.625000\n",
      "Epoch 10, CIFAR-10 Batch 4:  Loss:     0.8030 Validation Accuracy: 0.626800\n",
      "Epoch 10, CIFAR-10 Batch 5:  Loss:     0.7910 Validation Accuracy: 0.642400\n",
      "Epoch 11, CIFAR-10 Batch 1:  Loss:     0.7880 Validation Accuracy: 0.630200\n",
      "Epoch 11, CIFAR-10 Batch 2:  Loss:     0.8189 Validation Accuracy: 0.643400\n",
      "Epoch 11, CIFAR-10 Batch 3:  Loss:     0.8143 Validation Accuracy: 0.633000\n",
      "Epoch 11, CIFAR-10 Batch 4:  Loss:     0.7181 Validation Accuracy: 0.641000\n",
      "Epoch 11, CIFAR-10 Batch 5:  Loss:     0.7313 Validation Accuracy: 0.641600\n",
      "Epoch 12, CIFAR-10 Batch 1:  Loss:     0.7523 Validation Accuracy: 0.632200\n",
      "Epoch 12, CIFAR-10 Batch 2:  Loss:     0.8887 Validation Accuracy: 0.613000\n",
      "Epoch 12, CIFAR-10 Batch 3:  Loss:     0.7604 Validation Accuracy: 0.639800\n",
      "Epoch 12, CIFAR-10 Batch 4:  Loss:     0.6911 Validation Accuracy: 0.647000\n",
      "Epoch 12, CIFAR-10 Batch 5:  Loss:     0.6874 Validation Accuracy: 0.645800\n",
      "Epoch 13, CIFAR-10 Batch 1:  Loss:     0.7556 Validation Accuracy: 0.625800\n",
      "Epoch 13, CIFAR-10 Batch 2:  Loss:     0.7823 Validation Accuracy: 0.641800\n",
      "Epoch 13, CIFAR-10 Batch 3:  Loss:     0.7186 Validation Accuracy: 0.646600\n",
      "Epoch 13, CIFAR-10 Batch 4:  Loss:     0.6520 Validation Accuracy: 0.652000\n",
      "Epoch 13, CIFAR-10 Batch 5:  Loss:     0.6757 Validation Accuracy: 0.641400\n",
      "Epoch 14, CIFAR-10 Batch 1:  Loss:     0.6906 Validation Accuracy: 0.639200\n",
      "Epoch 14, CIFAR-10 Batch 2:  Loss:     0.6752 Validation Accuracy: 0.662800\n",
      "Epoch 14, CIFAR-10 Batch 3:  Loss:     0.6648 Validation Accuracy: 0.651000\n",
      "Epoch 14, CIFAR-10 Batch 4:  Loss:     0.6014 Validation Accuracy: 0.657400\n",
      "Epoch 14, CIFAR-10 Batch 5:  Loss:     0.6022 Validation Accuracy: 0.652200\n",
      "Epoch 15, CIFAR-10 Batch 1:  Loss:     0.6319 Validation Accuracy: 0.641000\n",
      "Epoch 15, CIFAR-10 Batch 2:  Loss:     0.6735 Validation Accuracy: 0.660800\n",
      "Epoch 15, CIFAR-10 Batch 3:  Loss:     0.5901 Validation Accuracy: 0.664600\n",
      "Epoch 15, CIFAR-10 Batch 4:  Loss:     0.5595 Validation Accuracy: 0.659800\n",
      "Epoch 15, CIFAR-10 Batch 5:  Loss:     0.5598 Validation Accuracy: 0.662600\n",
      "Epoch 16, CIFAR-10 Batch 1:  Loss:     0.5603 Validation Accuracy: 0.652800\n",
      "Epoch 16, CIFAR-10 Batch 2:  Loss:     0.6397 Validation Accuracy: 0.665200\n",
      "Epoch 16, CIFAR-10 Batch 3:  Loss:     0.5769 Validation Accuracy: 0.663600\n",
      "Epoch 16, CIFAR-10 Batch 4:  Loss:     0.5158 Validation Accuracy: 0.665800\n",
      "Epoch 16, CIFAR-10 Batch 5:  Loss:     0.5211 Validation Accuracy: 0.664200\n",
      "Epoch 17, CIFAR-10 Batch 1:  Loss:     0.5611 Validation Accuracy: 0.644800\n",
      "Epoch 17, CIFAR-10 Batch 2:  Loss:     0.6252 Validation Accuracy: 0.660800\n",
      "Epoch 17, CIFAR-10 Batch 3:  Loss:     0.5390 Validation Accuracy: 0.663200\n",
      "Epoch 17, CIFAR-10 Batch 4:  Loss:     0.4902 Validation Accuracy: 0.664000\n",
      "Epoch 17, CIFAR-10 Batch 5:  Loss:     0.5510 Validation Accuracy: 0.648800\n",
      "Epoch 18, CIFAR-10 Batch 1:  Loss:     0.4585 Validation Accuracy: 0.675400\n",
      "Epoch 18, CIFAR-10 Batch 2:  Loss:     0.5351 Validation Accuracy: 0.664200\n",
      "Epoch 18, CIFAR-10 Batch 3:  Loss:     0.5154 Validation Accuracy: 0.670600\n",
      "Epoch 18, CIFAR-10 Batch 4:  Loss:     0.4646 Validation Accuracy: 0.666400\n",
      "Epoch 18, CIFAR-10 Batch 5:  Loss:     0.5008 Validation Accuracy: 0.655200\n",
      "Epoch 19, CIFAR-10 Batch 1:  Loss:     0.4412 Validation Accuracy: 0.672800\n",
      "Epoch 19, CIFAR-10 Batch 2:  Loss:     0.4736 Validation Accuracy: 0.670600\n",
      "Epoch 19, CIFAR-10 Batch 3:  Loss:     0.4510 Validation Accuracy: 0.673000\n",
      "Epoch 19, CIFAR-10 Batch 4:  Loss:     0.4252 Validation Accuracy: 0.671400\n",
      "Epoch 19, CIFAR-10 Batch 5:  Loss:     0.4749 Validation Accuracy: 0.660800\n",
      "Epoch 20, CIFAR-10 Batch 1:  Loss:     0.4660 Validation Accuracy: 0.654800\n",
      "Epoch 20, CIFAR-10 Batch 2:  Loss:     0.4720 Validation Accuracy: 0.669200\n",
      "Epoch 20, CIFAR-10 Batch 3:  Loss:     0.4142 Validation Accuracy: 0.661800\n",
      "Epoch 20, CIFAR-10 Batch 4:  Loss:     0.4193 Validation Accuracy: 0.670200\n",
      "Epoch 20, CIFAR-10 Batch 5:  Loss:     0.3889 Validation Accuracy: 0.680600\n",
      "Epoch 21, CIFAR-10 Batch 1:  Loss:     0.3914 Validation Accuracy: 0.668000\n",
      "Epoch 21, CIFAR-10 Batch 2:  Loss:     0.4519 Validation Accuracy: 0.660400\n",
      "Epoch 21, CIFAR-10 Batch 3:  Loss:     0.4461 Validation Accuracy: 0.665800\n",
      "Epoch 21, CIFAR-10 Batch 4:  Loss:     0.4300 Validation Accuracy: 0.659800\n",
      "Epoch 21, CIFAR-10 Batch 5:  Loss:     0.3629 Validation Accuracy: 0.677400\n",
      "Epoch 22, CIFAR-10 Batch 1:  Loss:     0.4095 Validation Accuracy: 0.651200\n",
      "Epoch 22, CIFAR-10 Batch 2:  Loss:     0.4598 Validation Accuracy: 0.646400\n",
      "Epoch 22, CIFAR-10 Batch 3:  Loss:     0.4055 Validation Accuracy: 0.670600\n",
      "Epoch 22, CIFAR-10 Batch 4:  Loss:     0.3438 Validation Accuracy: 0.677800\n",
      "Epoch 22, CIFAR-10 Batch 5:  Loss:     0.3547 Validation Accuracy: 0.670800\n",
      "Epoch 23, CIFAR-10 Batch 1:  Loss:     0.3312 Validation Accuracy: 0.667200\n",
      "Epoch 23, CIFAR-10 Batch 2:  Loss:     0.3882 Validation Accuracy: 0.662600\n",
      "Epoch 23, CIFAR-10 Batch 3:  Loss:     0.3754 Validation Accuracy: 0.665000\n",
      "Epoch 23, CIFAR-10 Batch 4:  Loss:     0.3527 Validation Accuracy: 0.670000\n",
      "Epoch 23, CIFAR-10 Batch 5:  Loss:     0.3266 Validation Accuracy: 0.680200\n",
      "Epoch 24, CIFAR-10 Batch 1:  Loss:     0.3161 Validation Accuracy: 0.670000\n",
      "Epoch 24, CIFAR-10 Batch 2:  Loss:     0.3325 Validation Accuracy: 0.669200\n",
      "Epoch 24, CIFAR-10 Batch 3:  Loss:     0.3708 Validation Accuracy: 0.656200\n",
      "Epoch 24, CIFAR-10 Batch 4:  Loss:     0.3810 Validation Accuracy: 0.632400\n",
      "Epoch 24, CIFAR-10 Batch 5:  Loss:     0.3278 Validation Accuracy: 0.674600\n",
      "Epoch 25, CIFAR-10 Batch 1:  Loss:     0.2983 Validation Accuracy: 0.671600\n",
      "Epoch 25, CIFAR-10 Batch 2:  Loss:     0.3054 Validation Accuracy: 0.668600\n",
      "Epoch 25, CIFAR-10 Batch 3:  Loss:     0.4024 Validation Accuracy: 0.641400\n",
      "Epoch 25, CIFAR-10 Batch 4:  Loss:     0.2908 Validation Accuracy: 0.655000\n",
      "Epoch 25, CIFAR-10 Batch 5:  Loss:     0.3083 Validation Accuracy: 0.664600\n",
      "Epoch 26, CIFAR-10 Batch 1:  Loss:     0.2921 Validation Accuracy: 0.666400\n",
      "Epoch 26, CIFAR-10 Batch 2:  Loss:     0.3100 Validation Accuracy: 0.669200\n",
      "Epoch 26, CIFAR-10 Batch 3:  Loss:     0.3714 Validation Accuracy: 0.658600\n",
      "Epoch 26, CIFAR-10 Batch 4:  Loss:     0.3348 Validation Accuracy: 0.637200\n",
      "Epoch 26, CIFAR-10 Batch 5:  Loss:     0.3385 Validation Accuracy: 0.648400\n",
      "Epoch 27, CIFAR-10 Batch 1:  Loss:     0.3371 Validation Accuracy: 0.662400\n",
      "Epoch 27, CIFAR-10 Batch 2:  Loss:     0.3066 Validation Accuracy: 0.666400\n",
      "Epoch 27, CIFAR-10 Batch 3:  Loss:     0.2725 Validation Accuracy: 0.673600\n",
      "Epoch 27, CIFAR-10 Batch 4:  Loss:     0.2607 Validation Accuracy: 0.659600\n",
      "Epoch 27, CIFAR-10 Batch 5:  Loss:     0.2649 Validation Accuracy: 0.649600\n",
      "Epoch 28, CIFAR-10 Batch 1:  Loss:     0.2572 Validation Accuracy: 0.671600\n",
      "Epoch 28, CIFAR-10 Batch 2:  Loss:     0.3081 Validation Accuracy: 0.662600\n",
      "Epoch 28, CIFAR-10 Batch 3:  Loss:     0.2687 Validation Accuracy: 0.666200\n",
      "Epoch 28, CIFAR-10 Batch 4:  Loss:     0.2258 Validation Accuracy: 0.667600\n",
      "Epoch 28, CIFAR-10 Batch 5:  Loss:     0.1952 Validation Accuracy: 0.670600\n",
      "Epoch 29, CIFAR-10 Batch 1:  Loss:     0.1953 Validation Accuracy: 0.680400\n",
      "Epoch 29, CIFAR-10 Batch 2:  Loss:     0.2655 Validation Accuracy: 0.657400\n",
      "Epoch 29, CIFAR-10 Batch 3:  Loss:     0.2267 Validation Accuracy: 0.668400\n",
      "Epoch 29, CIFAR-10 Batch 4:  Loss:     0.2047 Validation Accuracy: 0.670800\n",
      "Epoch 29, CIFAR-10 Batch 5:  Loss:     0.1911 Validation Accuracy: 0.665200\n",
      "Epoch 30, CIFAR-10 Batch 1:  Loss:     0.2484 Validation Accuracy: 0.648400\n",
      "Epoch 30, CIFAR-10 Batch 2:  Loss:     0.2703 Validation Accuracy: 0.659200\n",
      "Epoch 30, CIFAR-10 Batch 3:  Loss:     0.2395 Validation Accuracy: 0.654600\n",
      "Epoch 30, CIFAR-10 Batch 4:  Loss:     0.2037 Validation Accuracy: 0.662400\n",
      "Epoch 30, CIFAR-10 Batch 5:  Loss:     0.1987 Validation Accuracy: 0.654000\n",
      "Epoch 31, CIFAR-10 Batch 1:  Loss:     0.2083 Validation Accuracy: 0.664400\n",
      "Epoch 31, CIFAR-10 Batch 2:  Loss:     0.1967 Validation Accuracy: 0.668800\n",
      "Epoch 31, CIFAR-10 Batch 3:  Loss:     0.2265 Validation Accuracy: 0.653200\n",
      "Epoch 31, CIFAR-10 Batch 4:  Loss:     0.1703 Validation Accuracy: 0.663600\n",
      "Epoch 31, CIFAR-10 Batch 5:  Loss:     0.1634 Validation Accuracy: 0.653000\n",
      "Epoch 32, CIFAR-10 Batch 1:  Loss:     0.1775 Validation Accuracy: 0.671200\n",
      "Epoch 32, CIFAR-10 Batch 2:  Loss:     0.1748 Validation Accuracy: 0.667400\n",
      "Epoch 32, CIFAR-10 Batch 3:  Loss:     0.1791 Validation Accuracy: 0.665600\n",
      "Epoch 32, CIFAR-10 Batch 4:  Loss:     0.2309 Validation Accuracy: 0.636200\n",
      "Epoch 32, CIFAR-10 Batch 5:  Loss:     0.1615 Validation Accuracy: 0.657800\n",
      "Epoch 33, CIFAR-10 Batch 1:  Loss:     0.1810 Validation Accuracy: 0.653000\n",
      "Epoch 33, CIFAR-10 Batch 2:  Loss:     0.1717 Validation Accuracy: 0.664400\n",
      "Epoch 33, CIFAR-10 Batch 3:  Loss:     0.2319 Validation Accuracy: 0.634800\n",
      "Epoch 33, CIFAR-10 Batch 4:  Loss:     0.1924 Validation Accuracy: 0.658800\n",
      "Epoch 33, CIFAR-10 Batch 5:  Loss:     0.1793 Validation Accuracy: 0.664200\n",
      "Epoch 34, CIFAR-10 Batch 1:  Loss:     0.1557 Validation Accuracy: 0.659600\n",
      "Epoch 34, CIFAR-10 Batch 2:  Loss:     0.1660 Validation Accuracy: 0.658800\n",
      "Epoch 34, CIFAR-10 Batch 3:  Loss:     0.1524 Validation Accuracy: 0.663800\n",
      "Epoch 34, CIFAR-10 Batch 4:  Loss:     0.1760 Validation Accuracy: 0.652800\n",
      "Epoch 34, CIFAR-10 Batch 5:  Loss:     0.2029 Validation Accuracy: 0.633600\n",
      "Epoch 35, CIFAR-10 Batch 1:  Loss:     0.1264 Validation Accuracy: 0.656400\n",
      "Epoch 35, CIFAR-10 Batch 2:  Loss:     0.1971 Validation Accuracy: 0.646800\n",
      "Epoch 35, CIFAR-10 Batch 3:  Loss:     0.1459 Validation Accuracy: 0.656800\n",
      "Epoch 35, CIFAR-10 Batch 4:  Loss:     0.1301 Validation Accuracy: 0.666200\n",
      "Epoch 35, CIFAR-10 Batch 5:  Loss:     0.1142 Validation Accuracy: 0.650200\n",
      "Epoch 36, CIFAR-10 Batch 1:  Loss:     0.1567 Validation Accuracy: 0.654400\n",
      "Epoch 36, CIFAR-10 Batch 2:  Loss:     0.1437 Validation Accuracy: 0.655600\n",
      "Epoch 36, CIFAR-10 Batch 3:  Loss:     0.1636 Validation Accuracy: 0.647800\n",
      "Epoch 36, CIFAR-10 Batch 4:  Loss:     0.1119 Validation Accuracy: 0.658800\n",
      "Epoch 36, CIFAR-10 Batch 5:  Loss:     0.1197 Validation Accuracy: 0.652000\n",
      "Epoch 37, CIFAR-10 Batch 1:  Loss:     0.1172 Validation Accuracy: 0.665400\n",
      "Epoch 37, CIFAR-10 Batch 2:  Loss:     0.1401 Validation Accuracy: 0.655600\n",
      "Epoch 37, CIFAR-10 Batch 3:  Loss:     0.1122 Validation Accuracy: 0.655200\n",
      "Epoch 37, CIFAR-10 Batch 4:  Loss:     0.1373 Validation Accuracy: 0.658000\n",
      "Epoch 37, CIFAR-10 Batch 5:  Loss:     0.1107 Validation Accuracy: 0.660000\n",
      "Epoch 38, CIFAR-10 Batch 1:  Loss:     0.1053 Validation Accuracy: 0.660400\n",
      "Epoch 38, CIFAR-10 Batch 2:  Loss:     0.1149 Validation Accuracy: 0.655600\n",
      "Epoch 38, CIFAR-10 Batch 3:  Loss:     0.1631 Validation Accuracy: 0.642800\n",
      "Epoch 38, CIFAR-10 Batch 4:  Loss:     0.1473 Validation Accuracy: 0.654200\n",
      "Epoch 38, CIFAR-10 Batch 5:  Loss:     0.1153 Validation Accuracy: 0.654600\n",
      "Epoch 39, CIFAR-10 Batch 1:  Loss:     0.1038 Validation Accuracy: 0.662600\n",
      "Epoch 39, CIFAR-10 Batch 2:  Loss:     0.1382 Validation Accuracy: 0.645000\n",
      "Epoch 39, CIFAR-10 Batch 3:  Loss:     0.1362 Validation Accuracy: 0.653200\n",
      "Epoch 39, CIFAR-10 Batch 4:  Loss:     0.1581 Validation Accuracy: 0.639000\n",
      "Epoch 39, CIFAR-10 Batch 5:  Loss:     0.1059 Validation Accuracy: 0.660200\n",
      "Epoch 40, CIFAR-10 Batch 1:  Loss:     0.0937 Validation Accuracy: 0.655000\n",
      "Epoch 40, CIFAR-10 Batch 2:  Loss:     0.0839 Validation Accuracy: 0.662400\n",
      "Epoch 40, CIFAR-10 Batch 3:  Loss:     0.1045 Validation Accuracy: 0.661800\n",
      "Epoch 40, CIFAR-10 Batch 4:  Loss:     0.0845 Validation Accuracy: 0.667800\n",
      "Epoch 40, CIFAR-10 Batch 5:  Loss:     0.0557 Validation Accuracy: 0.673600\n",
      "Epoch 41, CIFAR-10 Batch 1:  Loss:     0.0459 Validation Accuracy: 0.673200\n",
      "Epoch 41, CIFAR-10 Batch 2:  Loss:     0.0805 Validation Accuracy: 0.657000\n",
      "Epoch 41, CIFAR-10 Batch 3:  Loss:     0.0776 Validation Accuracy: 0.658600\n",
      "Epoch 41, CIFAR-10 Batch 4:  Loss:     0.0722 Validation Accuracy: 0.663600\n",
      "Epoch 41, CIFAR-10 Batch 5:  Loss:     0.0687 Validation Accuracy: 0.666800\n",
      "Epoch 42, CIFAR-10 Batch 1:  Loss:     0.0480 Validation Accuracy: 0.670000\n",
      "Epoch 42, CIFAR-10 Batch 2:  Loss:     0.0513 Validation Accuracy: 0.669200\n",
      "Epoch 42, CIFAR-10 Batch 3:  Loss:     0.0707 Validation Accuracy: 0.641800\n",
      "Epoch 42, CIFAR-10 Batch 4:  Loss:     0.0879 Validation Accuracy: 0.652600\n",
      "Epoch 42, CIFAR-10 Batch 5:  Loss:     0.0532 Validation Accuracy: 0.668600\n",
      "Epoch 43, CIFAR-10 Batch 1:  Loss:     0.0515 Validation Accuracy: 0.662400\n",
      "Epoch 43, CIFAR-10 Batch 2:  Loss:     0.0560 Validation Accuracy: 0.658200\n",
      "Epoch 43, CIFAR-10 Batch 3:  Loss:     0.0853 Validation Accuracy: 0.635400\n",
      "Epoch 43, CIFAR-10 Batch 4:  Loss:     0.0946 Validation Accuracy: 0.645200\n",
      "Epoch 43, CIFAR-10 Batch 5:  Loss:     0.0994 Validation Accuracy: 0.655000\n",
      "Epoch 44, CIFAR-10 Batch 1:  Loss:     0.0781 Validation Accuracy: 0.653800\n",
      "Epoch 44, CIFAR-10 Batch 2:  Loss:     0.1060 Validation Accuracy: 0.646200\n",
      "Epoch 44, CIFAR-10 Batch 3:  Loss:     0.0938 Validation Accuracy: 0.638800\n",
      "Epoch 44, CIFAR-10 Batch 4:  Loss:     0.0924 Validation Accuracy: 0.643800\n",
      "Epoch 44, CIFAR-10 Batch 5:  Loss:     0.0690 Validation Accuracy: 0.649200\n",
      "Epoch 45, CIFAR-10 Batch 1:  Loss:     0.0643 Validation Accuracy: 0.653400\n",
      "Epoch 45, CIFAR-10 Batch 2:  Loss:     0.0756 Validation Accuracy: 0.651800\n",
      "Epoch 45, CIFAR-10 Batch 3:  Loss:     0.1013 Validation Accuracy: 0.640200\n",
      "Epoch 45, CIFAR-10 Batch 4:  Loss:     0.0858 Validation Accuracy: 0.660200\n",
      "Epoch 45, CIFAR-10 Batch 5:  Loss:     0.0635 Validation Accuracy: 0.644800\n",
      "Epoch 46, CIFAR-10 Batch 1:  Loss:     0.0835 Validation Accuracy: 0.653600\n",
      "Epoch 46, CIFAR-10 Batch 2:  Loss:     0.0636 Validation Accuracy: 0.659200\n",
      "Epoch 46, CIFAR-10 Batch 3:  Loss:     0.1173 Validation Accuracy: 0.633200\n",
      "Epoch 46, CIFAR-10 Batch 4:  Loss:     0.0847 Validation Accuracy: 0.637800\n",
      "Epoch 46, CIFAR-10 Batch 5:  Loss:     0.0657 Validation Accuracy: 0.651600\n",
      "Epoch 47, CIFAR-10 Batch 1:  Loss:     0.0900 Validation Accuracy: 0.636800\n",
      "Epoch 47, CIFAR-10 Batch 2:  Loss:     0.1078 Validation Accuracy: 0.649400\n",
      "Epoch 47, CIFAR-10 Batch 3:  Loss:     0.0896 Validation Accuracy: 0.648800\n",
      "Epoch 47, CIFAR-10 Batch 4:  Loss:     0.0896 Validation Accuracy: 0.659400\n",
      "Epoch 47, CIFAR-10 Batch 5:  Loss:     0.0800 Validation Accuracy: 0.659400\n",
      "Epoch 48, CIFAR-10 Batch 1:  Loss:     0.0718 Validation Accuracy: 0.656200\n",
      "Epoch 48, CIFAR-10 Batch 2:  Loss:     0.0692 Validation Accuracy: 0.667600\n",
      "Epoch 48, CIFAR-10 Batch 3:  Loss:     0.0914 Validation Accuracy: 0.647000\n",
      "Epoch 48, CIFAR-10 Batch 4:  Loss:     0.0745 Validation Accuracy: 0.650200\n",
      "Epoch 48, CIFAR-10 Batch 5:  Loss:     0.0640 Validation Accuracy: 0.659400\n",
      "Epoch 49, CIFAR-10 Batch 1:  Loss:     0.0493 Validation Accuracy: 0.657200\n",
      "Epoch 49, CIFAR-10 Batch 2:  Loss:     0.0499 Validation Accuracy: 0.673000\n",
      "Epoch 49, CIFAR-10 Batch 3:  Loss:     0.0448 Validation Accuracy: 0.656600\n",
      "Epoch 49, CIFAR-10 Batch 4:  Loss:     0.0741 Validation Accuracy: 0.642400\n",
      "Epoch 49, CIFAR-10 Batch 5:  Loss:     0.0434 Validation Accuracy: 0.658600\n",
      "Epoch 50, CIFAR-10 Batch 1:  Loss:     0.0762 Validation Accuracy: 0.641600\n",
      "Epoch 50, CIFAR-10 Batch 2:  Loss:     0.0442 Validation Accuracy: 0.666400\n",
      "Epoch 50, CIFAR-10 Batch 3:  Loss:     0.0445 Validation Accuracy: 0.652200\n",
      "Epoch 50, CIFAR-10 Batch 4:  Loss:     0.0592 Validation Accuracy: 0.649200\n",
      "Epoch 50, CIFAR-10 Batch 5:  Loss:     0.0325 Validation Accuracy: 0.669800\n",
      "0:09:47.382930\n"
     ]
    }
   ],
   "source": [
    "start = datetime.datetime.now()\n",
    "\n",
    "\"\"\"\n",
    "DON'T MODIFY ANYTHING IN THIS CELL\n",
    "\"\"\"\n",
    "save_model_path = './image_classification'\n",
    "\n",
    "print('Training...')\n",
    "with tf.Session() as sess:\n",
    "    # Initializing the variables\n",
    "    sess.run(tf.global_variables_initializer())\n",
    "    \n",
    "    # Training cycle\n",
    "    for epoch in range(epochs):\n",
    "        # Loop over all batches\n",
    "        n_batches = 5\n",
    "        for batch_i in range(1, n_batches + 1):\n",
    "            for batch_features, batch_labels in helper.load_preprocess_training_batch(batch_i, batch_size):\n",
    "                train_neural_network(sess, optimizer, keep_probability, batch_features, batch_labels)\n",
    "            print('Epoch {:>2}, CIFAR-10 Batch {}:  '.format(epoch + 1, batch_i), end='')\n",
    "            print_stats(sess, batch_features, batch_labels, cost, accuracy)\n",
    "            \n",
    "    # Save Model\n",
    "    saver = tf.train.Saver()\n",
    "    save_path = saver.save(sess, save_model_path)\n",
    "\n",
    "end = datetime.datetime.now()\n",
    "diff = end - start\n",
    "print(diff)"
   ]
  },
  {
   "cell_type": "markdown",
   "metadata": {
    "deletable": true,
    "editable": true
   },
   "source": [
    "# Checkpoint\n",
    "The model has been saved to disk.\n",
    "## Test Model\n",
    "Test your model against the test dataset.  This will be your final accuracy. You should have an accuracy greater than 50%. If you don't, keep tweaking the model architecture and parameters."
   ]
  },
  {
   "cell_type": "code",
   "execution_count": 154,
   "metadata": {
    "collapsed": false,
    "deletable": true,
    "editable": true
   },
   "outputs": [
    {
     "name": "stdout",
     "output_type": "stream",
     "text": [
      "Testing Accuracy: 0.6632586717605591\n",
      "\n"
     ]
    },
    {
     "data": {
      "image/png": "[encoded data removed]",
      "text/plain": [
       "<matplotlib.figure.Figure at 0x7f7ed8174160>"
      ]
     },
     "metadata": {
      "image/png": {
       "height": 319,
       "width": 355
      }
     },
     "output_type": "display_data"
    }
   ],
   "source": [
    "\"\"\"\n",
    "DON'T MODIFY ANYTHING IN THIS CELL\n",
    "\"\"\"\n",
    "%matplotlib inline\n",
    "%config InlineBackend.figure_format = 'retina'\n",
    "\n",
    "import tensorflow as tf\n",
    "import pickle\n",
    "import helper\n",
    "import random\n",
    "\n",
    "# Set batch size if not already set\n",
    "try:\n",
    "    if batch_size:\n",
    "        pass\n",
    "except NameError:\n",
    "    batch_size = 64\n",
    "\n",
    "save_model_path = './image_classification'\n",
    "n_samples = 4\n",
    "top_n_predictions = 3\n",
    "\n",
    "def test_model():\n",
    "    \"\"\"\n",
    "    Test the saved model against the test dataset\n",
    "    \"\"\"\n",
    "\n",
    "    test_features, test_labels = pickle.load(open('preprocess_test.p', mode='rb'))\n",
    "    loaded_graph = tf.Graph()\n",
    "\n",
    "    with tf.Session(graph=loaded_graph) as sess:\n",
    "        # Load model\n",
    "        loader = tf.train.import_meta_graph(save_model_path + '.meta')\n",
    "        loader.restore(sess, save_model_path)\n",
    "\n",
    "        # Get Tensors from loaded model\n",
    "        loaded_x = loaded_graph.get_tensor_by_name('x:0')\n",
    "        loaded_y = loaded_graph.get_tensor_by_name('y:0')\n",
    "        loaded_keep_prob = loaded_graph.get_tensor_by_name('keep_prob:0')\n",
    "        loaded_logits = loaded_graph.get_tensor_by_name('logits:0')\n",
    "        loaded_acc = loaded_graph.get_tensor_by_name('accuracy:0')\n",
    "        \n",
    "        # Get accuracy in batches for memory limitations\n",
    "        test_batch_acc_total = 0\n",
    "        test_batch_count = 0\n",
    "        \n",
    "        for test_feature_batch, test_label_batch in helper.batch_features_labels(test_features, test_labels, batch_size):\n",
    "            test_batch_acc_total += sess.run(\n",
    "                loaded_acc,\n",
    "                feed_dict={loaded_x: test_feature_batch, loaded_y: test_label_batch, loaded_keep_prob: 1.0})\n",
    "            test_batch_count += 1\n",
    "\n",
    "        print('Testing Accuracy: {}\\n'.format(test_batch_acc_total/test_batch_count))\n",
    "\n",
    "        # Print Random Samples\n",
    "        random_test_features, random_test_labels = tuple(zip(*random.sample(list(zip(test_features, test_labels)), n_samples)))\n",
    "        random_test_predictions = sess.run(\n",
    "            tf.nn.top_k(tf.nn.softmax(loaded_logits), top_n_predictions),\n",
    "            feed_dict={loaded_x: random_test_features, loaded_y: random_test_labels, loaded_keep_prob: 1.0})\n",
    "        helper.display_image_predictions(random_test_features, random_test_labels, random_test_predictions)\n",
    "\n",
    "\n",
    "test_model()"
   ]
  },
  {
   "cell_type": "markdown",
   "metadata": {
    "deletable": true,
    "editable": true
   },
   "source": [
    "## Why 50-80% Accuracy?\n",
    "You might be wondering why you can't get an accuracy any higher. First things first, 50% isn't bad for a simple CNN.  Pure guessing would get you 10% accuracy. However, you might notice people are getting scores [well above 80%](http://rodrigob.github.io/are_we_there_yet/build/classification_datasets_results.html#43494641522d3130).  That's because we haven't taught you all there is to know about neural networks. We still need to cover a few more techniques.\n",
    "## Submitting This Project\n",
    "When submitting this project, make sure to run all the cells before saving the notebook.  Save the notebook file as \"dlnd_image_classification.ipynb\" and save it as a HTML file under \"File\" -> \"Download as\".  Include the \"helper.py\" and \"problem_unittests.py\" files in your submission."
   ]
  }
 ],
 "metadata": {
  "kernelspec": {
   "display_name": "Python 3",
   "language": "python",
   "name": "python3"
  },
  "language_info": {
   "codemirror_mode": {
    "name": "ipython",
    "version": 3
   },
   "file_extension": ".py",
   "mimetype": "text/x-python",
   "name": "python",
   "nbconvert_exporter": "python",
   "pygments_lexer": "ipython3",
   "version": "3.5.3"
  }
 },
 "nbformat": 4,
 "nbformat_minor": 0
}
