{
 "cells": [
  {
   "cell_type": "markdown",
   "metadata": {
    "collapsed": true
   },
   "source": [
    "# Image Classification\n",
    "In this project, you'll classify images from the [CIFAR-10 dataset](https://www.cs.toronto.edu/~kriz/cifar.html).  The dataset consists of airplanes, dogs, cats, and other objects. You'll preprocess the images, then train a convolutional neural network on all the samples. The images need to be normalized and the labels need to be one-hot encoded.  You'll get to apply what you learned and build a convolutional, max pooling, dropout, and fully connected layers.  At the end, you'll get to see your neural network's predictions on the sample images.\n",
    "## Get the Data\n",
    "Run the following cell to download the [CIFAR-10 dataset for python](https://www.cs.toronto.edu/~kriz/cifar-10-python.tar.gz)."
   ]
  },
  {
   "cell_type": "code",
   "execution_count": 1,
   "metadata": {},
   "outputs": [
    {
     "name": "stdout",
     "output_type": "stream",
     "text": [
      "All files found!\n"
     ]
    }
   ],
   "source": [
    "\"\"\"\n",
    "DON'T MODIFY ANYTHING IN THIS CELL THAT IS BELOW THIS LINE\n",
    "\"\"\"\n",
    "from urllib.request import urlretrieve\n",
    "from os.path import isfile, isdir\n",
    "from tqdm import tqdm\n",
    "import problem_unittests as tests\n",
    "import tarfile\n",
    "\n",
    "cifar10_dataset_folder_path = 'cifar-10-batches-py'\n",
    "\n",
    "# Use Floyd's cifar-10 dataset if present\n",
    "floyd_cifar10_location = '/input/cifar-10/python.tar.gz'\n",
    "if isfile(floyd_cifar10_location):\n",
    "    tar_gz_path = floyd_cifar10_location\n",
    "else:\n",
    "    tar_gz_path = 'cifar-10-python.tar.gz'\n",
    "\n",
    "class DLProgress(tqdm):\n",
    "    last_block = 0\n",
    "\n",
    "    def hook(self, block_num=1, block_size=1, total_size=None):\n",
    "        self.total = total_size\n",
    "        self.update((block_num - self.last_block) * block_size)\n",
    "        self.last_block = block_num\n",
    "\n",
    "if not isfile(tar_gz_path):\n",
    "    with DLProgress(unit='B', unit_scale=True, miniters=1, desc='CIFAR-10 Dataset') as pbar:\n",
    "        urlretrieve(\n",
    "            'https://www.cs.toronto.edu/~kriz/cifar-10-python.tar.gz',\n",
    "            tar_gz_path,\n",
    "            pbar.hook)\n",
    "\n",
    "if not isdir(cifar10_dataset_folder_path):\n",
    "    with tarfile.open(tar_gz_path) as tar:\n",
    "        tar.extractall()\n",
    "        tar.close()\n",
    "\n",
    "\n",
    "tests.test_folder_path(cifar10_dataset_folder_path)"
   ]
  },
  {
   "cell_type": "markdown",
   "metadata": {},
   "source": [
    "## Explore the Data\n",
    "The dataset is broken into batches to prevent your machine from running out of memory.  The CIFAR-10 dataset consists of 5 batches, named `data_batch_1`, `data_batch_2`, etc.. Each batch contains the labels and images that are one of the following:\n",
    "* airplane\n",
    "* automobile\n",
    "* bird\n",
    "* cat\n",
    "* deer\n",
    "* dog\n",
    "* frog\n",
    "* horse\n",
    "* ship\n",
    "* truck\n",
    "\n",
    "Understanding a dataset is part of making predictions on the data.  Play around with the code cell below by changing the `batch_id` and `sample_id`. The `batch_id` is the id for a batch (1-5). The `sample_id` is the id for a image and label pair in the batch.\n",
    "\n",
    "Ask yourself \"What are all possible labels?\", \"What is the range of values for the image data?\", \"Are the labels in order or random?\".  Answers to questions like these will help you preprocess the data and end up with better predictions."
   ]
  },
  {
   "cell_type": "code",
   "execution_count": 2,
   "metadata": {},
   "outputs": [
    {
     "name": "stdout",
     "output_type": "stream",
     "text": [
      "\n",
      "Stats of batch 1:\n",
      "Samples: 10000\n",
      "Label Counts: {0: 1005, 1: 974, 2: 1032, 3: 1016, 4: 999, 5: 937, 6: 1030, 7: 1001, 8: 1025, 9: 981}\n",
      "First 20 Labels: [6, 9, 9, 4, 1, 1, 2, 7, 8, 3, 4, 7, 7, 2, 9, 9, 9, 3, 2, 6]\n",
      "\n",
      "Example of Image 5:\n",
      "Image - Min Value: 0 Max Value: 252\n",
      "Image - Shape: (32, 32, 3)\n",
      "Label - Label Id: 1 Name: automobile\n"
     ]
    },
    {
     "data": {
      "image/png": "[encoded data removed]",
      "text/plain": [
       "<matplotlib.figure.Figure at 0x7ff23892d978>"
      ]
     },
     "metadata": {
      "image/png": {
       "height": 250,
       "width": 253
      }
     },
     "output_type": "display_data"
    }
   ],
   "source": [
    "%matplotlib inline\n",
    "%config InlineBackend.figure_format = 'retina'\n",
    "\n",
    "import helper\n",
    "import numpy as np\n",
    "\n",
    "# Explore the dataset\n",
    "batch_id = 1\n",
    "sample_id = 5\n",
    "helper.display_stats(cifar10_dataset_folder_path, batch_id, sample_id)"
   ]
  },
  {
   "cell_type": "markdown",
   "metadata": {},
   "source": [
    "## Implement Preprocess Functions\n",
    "### Normalize\n",
    "In the cell below, implement the `normalize` function to take in image data, `x`, and return it as a normalized Numpy array. The values should be in the range of 0 to 1, inclusive.  The return object should be the same shape as `x`."
   ]
  },
  {
   "cell_type": "code",
   "execution_count": 3,
   "metadata": {},
   "outputs": [
    {
     "name": "stdout",
     "output_type": "stream",
     "text": [
      "Tests Passed\n"
     ]
    }
   ],
   "source": [
    "def normalize(x):\n",
    "    \"\"\"\n",
    "    Normalize a list of sample image data in the range of 0 to 1\n",
    "    : x: List of image data.  The image shape is (32, 32, 3)\n",
    "    : return: Numpy array of normalize data\n",
    "    \"\"\"\n",
    "    return x/255.\n",
    "\n",
    "\"\"\"\n",
    "DON'T MODIFY ANYTHING IN THIS CELL THAT IS BELOW THIS LINE\n",
    "\"\"\"\n",
    "tests.test_normalize(normalize)"
   ]
  },
  {
   "cell_type": "markdown",
   "metadata": {},
   "source": [
    "### One-hot encode\n",
    "Just like the previous code cell, you'll be implementing a function for preprocessing.  This time, you'll implement the `one_hot_encode` function. The input, `x`, are a list of labels.  Implement the function to return the list of labels as One-Hot encoded Numpy array.  The possible values for labels are 0 to 9. The one-hot encoding function should return the same encoding for each value between each call to `one_hot_encode`.  Make sure to save the map of encodings outside the function.\n",
    "\n",
    "Hint: Don't reinvent the wheel."
   ]
  },
  {
   "cell_type": "code",
   "execution_count": 4,
   "metadata": {},
   "outputs": [
    {
     "name": "stdout",
     "output_type": "stream",
     "text": [
      "Tests Passed\n"
     ]
    }
   ],
   "source": [
    "def one_hot_encode(x):\n",
    "    \"\"\"\n",
    "    One hot encode a list of sample labels. Return a one-hot encoded vector for each label.\n",
    "    : x: List of sample Labels\n",
    "    : return: Numpy array of one-hot encoded labels\n",
    "    \"\"\"\n",
    "    ar = np.zeros((len(x), 10))    \n",
    "    for i in range(len(x)):\n",
    "        ar[i][x[i]] = 1\n",
    "    return ar\n",
    "\n",
    "\"\"\"\n",
    "DON'T MODIFY ANYTHING IN THIS CELL THAT IS BELOW THIS LINE\n",
    "\"\"\"\n",
    "tests.test_one_hot_encode(one_hot_encode)"
   ]
  },
  {
   "cell_type": "markdown",
   "metadata": {},
   "source": [
    "### Randomize Data\n",
    "As you saw from exploring the data above, the order of the samples are randomized.  It doesn't hurt to randomize it again, but you don't need to for this dataset."
   ]
  },
  {
   "cell_type": "markdown",
   "metadata": {},
   "source": [
    "## Preprocess all the data and save it\n",
    "Running the code cell below will preprocess all the CIFAR-10 data and save it to file. The code below also uses 10% of the training data for validation."
   ]
  },
  {
   "cell_type": "code",
   "execution_count": 5,
   "metadata": {
    "collapsed": true
   },
   "outputs": [],
   "source": [
    "\"\"\"\n",
    "DON'T MODIFY ANYTHING IN THIS CELL\n",
    "\"\"\"\n",
    "# Preprocess Training, Validation, and Testing Data\n",
    "helper.preprocess_and_save_data(cifar10_dataset_folder_path, normalize, one_hot_encode)"
   ]
  },
  {
   "cell_type": "markdown",
   "metadata": {},
   "source": [
    "# Check Point\n",
    "This is your first checkpoint.  If you ever decide to come back to this notebook or have to restart the notebook, you can start from here.  The preprocessed data has been saved to disk."
   ]
  },
  {
   "cell_type": "code",
   "execution_count": 6,
   "metadata": {
    "collapsed": true
   },
   "outputs": [],
   "source": [
    "\"\"\"\n",
    "DON'T MODIFY ANYTHING IN THIS CELL\n",
    "\"\"\"\n",
    "import pickle\n",
    "import problem_unittests as tests\n",
    "import helper\n",
    "\n",
    "# Load the Preprocessed Validation data\n",
    "valid_features, valid_labels = pickle.load(open('preprocess_validation.p', mode='rb'))"
   ]
  },
  {
   "cell_type": "markdown",
   "metadata": {},
   "source": [
    "## Build the network\n",
    "For the neural network, you'll build each layer into a function.  Most of the code you've seen has been outside of functions. To test your code more thoroughly, we require that you put each layer in a function.  This allows us to give you better feedback and test for simple mistakes using our unittests before you submit your project.\n",
    "\n",
    ">**Note:** If you're finding it hard to dedicate enough time for this course each week, we've provided a small shortcut to this part of the project. In the next couple of problems, you'll have the option to use classes from the [TensorFlow Layers](https://www.tensorflow.org/api_docs/python/tf/layers) or [TensorFlow Layers (contrib)](https://www.tensorflow.org/api_guides/python/contrib.layers) packages to build each layer, except the layers you build in the \"Convolutional and Max Pooling Layer\" section.  TF Layers is similar to Keras's and TFLearn's abstraction to layers, so it's easy to pickup.\n",
    "\n",
    ">However, if you would like to get the most out of this course, try to solve all the problems _without_ using anything from the TF Layers packages. You **can** still use classes from other packages that happen to have the same name as ones you find in TF Layers! For example, instead of using the TF Layers version of the `conv2d` class, [tf.layers.conv2d](https://www.tensorflow.org/api_docs/python/tf/layers/conv2d), you would want to use the TF Neural Network version of `conv2d`, [tf.nn.conv2d](https://www.tensorflow.org/api_docs/python/tf/nn/conv2d). \n",
    "\n",
    "Let's begin!\n",
    "\n",
    "### Input\n",
    "The neural network needs to read the image data, one-hot encoded labels, and dropout keep probability. Implement the following functions\n",
    "* Implement `neural_net_image_input`\n",
    " * Return a [TF Placeholder](https://www.tensorflow.org/api_docs/python/tf/placeholder)\n",
    " * Set the shape using `image_shape` with batch size set to `None`.\n",
    " * Name the TensorFlow placeholder \"x\" using the TensorFlow `name` parameter in the [TF Placeholder](https://www.tensorflow.org/api_docs/python/tf/placeholder).\n",
    "* Implement `neural_net_label_input`\n",
    " * Return a [TF Placeholder](https://www.tensorflow.org/api_docs/python/tf/placeholder)\n",
    " * Set the shape using `n_classes` with batch size set to `None`.\n",
    " * Name the TensorFlow placeholder \"y\" using the TensorFlow `name` parameter in the [TF Placeholder](https://www.tensorflow.org/api_docs/python/tf/placeholder).\n",
    "* Implement `neural_net_keep_prob_input`\n",
    " * Return a [TF Placeholder](https://www.tensorflow.org/api_docs/python/tf/placeholder) for dropout keep probability.\n",
    " * Name the TensorFlow placeholder \"keep_prob\" using the TensorFlow `name` parameter in the [TF Placeholder](https://www.tensorflow.org/api_docs/python/tf/placeholder).\n",
    "\n",
    "These names will be used at the end of the project to load your saved model.\n",
    "\n",
    "Note: `None` for shapes in TensorFlow allow for a dynamic size."
   ]
  },
  {
   "cell_type": "code",
   "execution_count": 7,
   "metadata": {},
   "outputs": [
    {
     "name": "stdout",
     "output_type": "stream",
     "text": [
      "Image Input Tests Passed.\n",
      "Label Input Tests Passed.\n",
      "Keep Prob Tests Passed.\n"
     ]
    }
   ],
   "source": [
    "import tensorflow as tf\n",
    "\n",
    "def neural_net_image_input(image_shape):\n",
    "    \"\"\"\n",
    "    Return a Tensor for a batch of image input\n",
    "    : image_shape: Shape of the images\n",
    "    : return: Tensor for image input.\n",
    "    \"\"\"\n",
    "    return tf.placeholder(dtype=tf.float32, \n",
    "                          shape=[None,image_shape[0], image_shape[1], image_shape[2]], \n",
    "                          name=\"x\")\n",
    "\n",
    "\n",
    "def neural_net_label_input(n_classes):\n",
    "    \"\"\"\n",
    "    Return a Tensor for a batch of label input\n",
    "    : n_classes: Number of classes\n",
    "    : return: Tensor for label input.\n",
    "    \"\"\"\n",
    "    return tf.placeholder(dtype=tf.float32, \n",
    "                          shape=[None, n_classes], \n",
    "                          name=\"y\")\n",
    "\n",
    "\n",
    "def neural_net_keep_prob_input():\n",
    "    \"\"\"\n",
    "    Return a Tensor for keep probability\n",
    "    : return: Tensor for keep probability.\n",
    "    \"\"\"\n",
    "    return tf.placeholder(dtype=tf.float32, \n",
    "                          name=\"keep_prob\")\n",
    "\n",
    "\n",
    "\"\"\"\n",
    "DON'T MODIFY ANYTHING IN THIS CELL THAT IS BELOW THIS LINE\n",
    "\"\"\"\n",
    "tf.reset_default_graph()\n",
    "tests.test_nn_image_inputs(neural_net_image_input)\n",
    "tests.test_nn_label_inputs(neural_net_label_input)\n",
    "tests.test_nn_keep_prob_inputs(neural_net_keep_prob_input)"
   ]
  },
  {
   "cell_type": "markdown",
   "metadata": {},
   "source": [
    "### Convolution and Max Pooling Layer\n",
    "Convolution layers have a lot of success with images. For this code cell, you should implement the function `conv2d_maxpool` to apply convolution then max pooling:\n",
    "* Create the weight and bias using `conv_ksize`, `conv_num_outputs` and the shape of `x_tensor`.\n",
    "* Apply a convolution to `x_tensor` using weight and `conv_strides`.\n",
    " * We recommend you use same padding, but you're welcome to use any padding.\n",
    "* Add bias\n",
    "* Add a nonlinear activation to the convolution.\n",
    "* Apply Max Pooling using `pool_ksize` and `pool_strides`.\n",
    " * We recommend you use same padding, but you're welcome to use any padding.\n",
    "\n",
    "**Note:** You **can't** use [TensorFlow Layers](https://www.tensorflow.org/api_docs/python/tf/layers) or [TensorFlow Layers (contrib)](https://www.tensorflow.org/api_guides/python/contrib.layers) for **this** layer, but you can still use TensorFlow's [Neural Network](https://www.tensorflow.org/api_docs/python/tf/nn) package. You may still use the shortcut option for all the **other** layers."
   ]
  },
  {
   "cell_type": "code",
   "execution_count": 9,
   "metadata": {},
   "outputs": [
    {
     "name": "stdout",
     "output_type": "stream",
     "text": [
      "Tests Passed\n"
     ]
    }
   ],
   "source": [
    "import datetime\n",
    "\n",
    "def conv2d_maxpool(x_tensor, conv_num_outputs, conv_ksize, conv_strides, pool_ksize, pool_strides):\n",
    "    \"\"\"\n",
    "    Apply convolution then max pooling to x_tensor\n",
    "    :param x_tensor: TensorFlow Tensor\n",
    "    :param conv_num_outputs: Number of outputs for the convolutional layer\n",
    "    :param conv_ksize: kernal size 2-D Tuple for the convolutional layer\n",
    "    :param conv_strides: Stride 2-D Tuple for convolution\n",
    "    :param pool_ksize: kernal size 2-D Tuple for pool\n",
    "    :param pool_strides: Stride 2-D Tuple for pool\n",
    "    : return: A tensor that represents convolution and max pooling of x_tensor\n",
    "    \"\"\"\n",
    "    # Create the weight and bias using conv_ksize, conv_num_outputs and the shape of x_tensor\n",
    "    color_channels = x_tensor.shape[3].value\n",
    "    weight = tf.Variable(tf.truncated_normal([conv_ksize[0], conv_ksize[1], color_channels, conv_num_outputs], stddev=0.05))\n",
    "    bias = tf.Variable(tf.zeros([conv_num_outputs]))\n",
    "    \n",
    "    # Apply a convolution to x_tensor using weight and conv_strides\n",
    "    conv_layer = tf.nn.conv2d(x_tensor, \n",
    "                              weight, \n",
    "                              strides = [1, conv_strides[0], conv_strides[1], 1], \n",
    "                              padding='SAME')\n",
    "    \n",
    "    # Add bias\n",
    "    conv_layer = tf.nn.bias_add(conv_layer, bias)\n",
    "    \n",
    "    # Add a nonlinear activation to the convolution\n",
    "    conv_layer = tf.nn.relu(conv_layer)\n",
    "    \n",
    "    # Apply Max Pooling using pool_ksize and pool_strides\n",
    "    pool_layer = tf.nn.max_pool(conv_layer,\n",
    "                                ksize = [1, pool_ksize[0], pool_ksize[1], 1],\n",
    "                                strides = [1, pool_strides[0], pool_strides[1], 1], \n",
    "                                padding='SAME')\n",
    "\n",
    "    return pool_layer\n",
    "\n",
    "\"\"\"\n",
    "DON'T MODIFY ANYTHING IN THIS CELL THAT IS BELOW THIS LINE\n",
    "\"\"\"\n",
    "tests.test_con_pool(conv2d_maxpool)\n"
   ]
  },
  {
   "cell_type": "markdown",
   "metadata": {},
   "source": [
    "### Flatten Layer\n",
    "Implement the `flatten` function to change the dimension of `x_tensor` from a 4-D tensor to a 2-D tensor.  The output should be the shape (*Batch Size*, *Flattened Image Size*). Shortcut option: you can use classes from the [TensorFlow Layers](https://www.tensorflow.org/api_docs/python/tf/layers) or [TensorFlow Layers (contrib)](https://www.tensorflow.org/api_guides/python/contrib.layers) packages for this layer. For more of a challenge, only use other TensorFlow packages."
   ]
  },
  {
   "cell_type": "code",
   "execution_count": 10,
   "metadata": {},
   "outputs": [
    {
     "name": "stdout",
     "output_type": "stream",
     "text": [
      "Tests Passed\n"
     ]
    }
   ],
   "source": [
    "def flatten(x_tensor):\n",
    "    \"\"\"\n",
    "    Flatten x_tensor to (Batch Size, Flattened Image Size)\n",
    "    : x_tensor: A tensor of size (Batch Size, ...), where ... are the image dimensions.\n",
    "    : return: A tensor of size (Batch Size, Flattened Image Size).\n",
    "    \"\"\"\n",
    "    return tf.contrib.layers.flatten(x_tensor)\n",
    "\n",
    "\"\"\"\n",
    "DON'T MODIFY ANYTHING IN THIS CELL THAT IS BELOW THIS LINE\n",
    "\"\"\"\n",
    "tests.test_flatten(flatten)"
   ]
  },
  {
   "cell_type": "markdown",
   "metadata": {},
   "source": [
    "### Fully-Connected Layer\n",
    "Implement the `fully_conn` function to apply a fully connected layer to `x_tensor` with the shape (*Batch Size*, *num_outputs*). Shortcut option: you can use classes from the [TensorFlow Layers](https://www.tensorflow.org/api_docs/python/tf/layers) or [TensorFlow Layers (contrib)](https://www.tensorflow.org/api_guides/python/contrib.layers) packages for this layer. For more of a challenge, only use other TensorFlow packages."
   ]
  },
  {
   "cell_type": "code",
   "execution_count": 11,
   "metadata": {},
   "outputs": [
    {
     "name": "stdout",
     "output_type": "stream",
     "text": [
      "Tests Passed\n"
     ]
    }
   ],
   "source": [
    "def fully_conn(x_tensor, num_outputs):\n",
    "    \"\"\"\n",
    "    Apply a fully connected layer to x_tensor using weight and bias\n",
    "    : x_tensor: A 2-D tensor where the first dimension is batch size.\n",
    "    : num_outputs: The number of output that the new tensor should be.\n",
    "    : return: A 2-D tensor where the second dimension is num_outputs.\n",
    "    \"\"\"\n",
    "    # TODO: Implement Function\n",
    "    return tf.contrib.layers.fully_connected(x_tensor, num_outputs)\n",
    "\n",
    "\"\"\"\n",
    "DON'T MODIFY ANYTHING IN THIS CELL THAT IS BELOW THIS LINE\n",
    "\"\"\"\n",
    "tests.test_fully_conn(fully_conn)"
   ]
  },
  {
   "cell_type": "markdown",
   "metadata": {},
   "source": [
    "### Output Layer\n",
    "Implement the `output` function to apply a fully connected layer to `x_tensor` with the shape (*Batch Size*, *num_outputs*). Shortcut option: you can use classes from the [TensorFlow Layers](https://www.tensorflow.org/api_docs/python/tf/layers) or [TensorFlow Layers (contrib)](https://www.tensorflow.org/api_guides/python/contrib.layers) packages for this layer. For more of a challenge, only use other TensorFlow packages.\n",
    "\n",
    "**Note:** Activation, softmax, or cross entropy should **not** be applied to this."
   ]
  },
  {
   "cell_type": "code",
   "execution_count": 12,
   "metadata": {},
   "outputs": [
    {
     "name": "stdout",
     "output_type": "stream",
     "text": [
      "Tests Passed\n"
     ]
    }
   ],
   "source": [
    "def output(x_tensor, num_outputs):\n",
    "    \"\"\"\n",
    "    Apply a output layer to x_tensor using weight and bias\n",
    "    : x_tensor: A 2-D tensor where the first dimension is batch size.\n",
    "    : num_outputs: The number of output that the new tensor should be.\n",
    "    : return: A 2-D tensor where the second dimension is num_outputs.\n",
    "    \"\"\"\n",
    "    # TODO: Implement Function\n",
    "    return tf.contrib.layers.linear(x_tensor, num_outputs)\n",
    "\n",
    "\"\"\"\n",
    "DON'T MODIFY ANYTHING IN THIS CELL THAT IS BELOW THIS LINE\n",
    "\"\"\"\n",
    "tests.test_output(output)"
   ]
  },
  {
   "cell_type": "markdown",
   "metadata": {},
   "source": [
    "### Create Convolutional Model\n",
    "Implement the function `conv_net` to create a convolutional neural network model. The function takes in a batch of images, `x`, and outputs logits.  Use the layers you created above to create this model:\n",
    "\n",
    "* Apply 1, 2, or 3 Convolution and Max Pool layers\n",
    "* Apply a Flatten Layer\n",
    "* Apply 1, 2, or 3 Fully Connected Layers\n",
    "* Apply an Output Layer\n",
    "* Return the output\n",
    "* Apply [TensorFlow's Dropout](https://www.tensorflow.org/api_docs/python/tf/nn/dropout) to one or more layers in the model using `keep_prob`. "
   ]
  },
  {
   "cell_type": "code",
   "execution_count": 13,
   "metadata": {},
   "outputs": [
    {
     "name": "stdout",
     "output_type": "stream",
     "text": [
      "Neural Network Built!\n"
     ]
    }
   ],
   "source": [
    "def conv_net(x, keep_prob):\n",
    "    \"\"\"\n",
    "    Create a convolutional neural network model\n",
    "    : x: Placeholder tensor that holds image data.\n",
    "    : keep_prob: Placeholder tensor that hold dropout keep probability.\n",
    "    : return: Tensor that represents logits\n",
    "    \"\"\"\n",
    "    l1_outputs = 32\n",
    "    l2_outputs = 64\n",
    "    l3_outputs = 128\n",
    "    l1_ksize = (8,8)\n",
    "    l2_ksize = (8,8)\n",
    "    l3_ksize = (2,2)\n",
    "    l1_cstrides = (1,1)\n",
    "    l2_cstrides = (2,2)\n",
    "    l3_cstrides = (1,1)\n",
    "    l1_pksize = (2,2)\n",
    "    l2_pksize = (2,2)\n",
    "    l3_pksize = (2,2)\n",
    "    l1_pstrides = (2,2)\n",
    "    l2_pstrides = (2,2)\n",
    "    l3_pstrides = (1,1)\n",
    "    \n",
    "    # TODO: Apply 1, 2, or 3 Convolution and Max Pool layers\n",
    "    #    Play around with different number of outputs, kernel size and stride\n",
    "    # Function Definition from Above:\n",
    "    #    conv2d_maxpool(x_tensor, conv_num_outputs, conv_ksize, conv_strides, pool_ksize, pool_strides)\n",
    "\n",
    "    conv = conv2d_maxpool(x,    l1_outputs,  l1_ksize, l1_cstrides, l1_pksize, l1_pstrides)\n",
    "    conv = conv2d_maxpool(conv, l2_outputs,  l2_ksize, l2_cstrides, l2_pksize, l2_pstrides)\n",
    "    conv = conv2d_maxpool(conv, l3_outputs,  l3_ksize, l3_cstrides, l3_pksize, l3_pstrides)\n",
    "    \n",
    "    # TODO: Apply a Flatten Layer\n",
    "    # Function Definition from Above:\n",
    "    #   flatten(x_tensor)\n",
    "    flat_layer = flatten(conv)    \n",
    "\n",
    "    # TODO: Apply 1, 2, or 3 Fully Connected Layers\n",
    "    #    Play around with different number of outputs\n",
    "    # Function Definition from Above:\n",
    "    #   fully_conn(x_tensor, num_outputs)\n",
    "    fully_connected = fully_conn(flat_layer, 128)\n",
    "    fully_connected = fully_conn(fully_connected, 64)\n",
    "    fully_connected = tf.nn.dropout(fully_connected, keep_prob)\n",
    "\n",
    "    # TODO: Apply an Output Layer\n",
    "    #    Set this to the number of classes\n",
    "    # Function Definition from Above:\n",
    "    #   output(x_tensor, num_outputs)\n",
    "    output_layer = output(fully_connected, 10)\n",
    "    \n",
    "    # TODO: return output\n",
    "    return output_layer\n",
    "\n",
    "\"\"\"\n",
    "DON'T MODIFY ANYTHING IN THIS CELL THAT IS BELOW THIS LINE\n",
    "\"\"\"\n",
    "\n",
    "##############################\n",
    "## Build the Neural Network ##\n",
    "##############################\n",
    "\n",
    "# Remove previous weights, bias, inputs, etc..\n",
    "tf.reset_default_graph()\n",
    "\n",
    "# Inputs\n",
    "x = neural_net_image_input((32, 32, 3))\n",
    "y = neural_net_label_input(10)\n",
    "keep_prob = neural_net_keep_prob_input()\n",
    "\n",
    "# Model\n",
    "logits = conv_net(x, keep_prob)\n",
    "\n",
    "# Name logits Tensor, so that is can be loaded from disk after training\n",
    "logits = tf.identity(logits, name='logits')\n",
    "\n",
    "# Loss and Optimizer\n",
    "cost = tf.reduce_mean(tf.nn.softmax_cross_entropy_with_logits(logits=logits, labels=y))\n",
    "optimizer = tf.train.AdamOptimizer().minimize(cost)\n",
    "\n",
    "# Accuracy\n",
    "correct_pred = tf.equal(tf.argmax(logits, 1), tf.argmax(y, 1))\n",
    "accuracy = tf.reduce_mean(tf.cast(correct_pred, tf.float32), name='accuracy')\n",
    "\n",
    "tests.test_conv_net(conv_net)"
   ]
  },
  {
   "cell_type": "markdown",
   "metadata": {},
   "source": [
    "## Train the Neural Network\n",
    "### Single Optimization\n",
    "Implement the function `train_neural_network` to do a single optimization.  The optimization should use `optimizer` to optimize in `session` with a `feed_dict` of the following:\n",
    "* `x` for image input\n",
    "* `y` for labels\n",
    "* `keep_prob` for keep probability for dropout\n",
    "\n",
    "This function will be called for each batch, so `tf.global_variables_initializer()` has already been called.\n",
    "\n",
    "Note: Nothing needs to be returned. This function is only optimizing the neural network."
   ]
  },
  {
   "cell_type": "code",
   "execution_count": 14,
   "metadata": {},
   "outputs": [
    {
     "name": "stdout",
     "output_type": "stream",
     "text": [
      "Tests Passed\n"
     ]
    }
   ],
   "source": [
    "def train_neural_network(session, optimizer, keep_probability, feature_batch, label_batch):\n",
    "    \"\"\"\n",
    "    Optimize the session on a batch of images and labels\n",
    "    : session: Current TensorFlow session\n",
    "    : optimizer: TensorFlow optimizer function\n",
    "    : keep_probability: keep probability\n",
    "    : feature_batch: Batch of Numpy image data\n",
    "    : label_batch: Batch of Numpy label data\n",
    "    \"\"\"\n",
    "    session.run(optimizer, feed_dict = {x: feature_batch,\n",
    "                                        y: label_batch,\n",
    "                                        keep_prob: keep_probability})\n",
    "\n",
    "\"\"\"\n",
    "DON'T MODIFY ANYTHING IN THIS CELL THAT IS BELOW THIS LINE\n",
    "\"\"\"\n",
    "tests.test_train_nn(train_neural_network)"
   ]
  },
  {
   "cell_type": "markdown",
   "metadata": {},
   "source": [
    "### Show Stats\n",
    "Implement the function `print_stats` to print loss and validation accuracy.  Use the global variables `valid_features` and `valid_labels` to calculate validation accuracy.  Use a keep probability of `1.0` to calculate the loss and validation accuracy."
   ]
  },
  {
   "cell_type": "code",
   "execution_count": 15,
   "metadata": {},
   "outputs": [],
   "source": [
    "def print_stats(session, feature_batch, label_batch, cost, accuracy):\n",
    "    \"\"\"\n",
    "    Print information about loss and validation accuracy\n",
    "    : session: Current TensorFlow session\n",
    "    : feature_batch: Batch of Numpy image data\n",
    "    : label_batch: Batch of Numpy label data\n",
    "    : cost: TensorFlow cost function\n",
    "    : accuracy: TensorFlow accuracy function\n",
    "    \"\"\"\n",
    "    loss = session.run(cost, feed_dict = {x: feature_batch,\n",
    "                                          y: label_batch,\n",
    "                                          keep_prob: 1.0})\n",
    "    valid_acc = session.run(accuracy, feed_dict = {x: valid_features,\n",
    "                                                   y: valid_labels,\n",
    "                                                   keep_prob:1.0})\n",
    "    \n",
    "    print('Loss: {:>10.4f} Validation Accuracy: {:.6f}'.format(loss, valid_acc))"
   ]
  },
  {
   "cell_type": "markdown",
   "metadata": {},
   "source": [
    "### Hyperparameters\n",
    "Tune the following parameters:\n",
    "* Set `epochs` to the number of iterations until the network stops learning or start overfitting\n",
    "* Set `batch_size` to the highest number that your machine has memory for.  Most people set them to common sizes of memory:\n",
    " * 64\n",
    " * 128\n",
    " * 256\n",
    " * ...\n",
    "* Set `keep_probability` to the probability of keeping a node using dropout"
   ]
  },
  {
   "cell_type": "code",
   "execution_count": 16,
   "metadata": {
    "collapsed": true
   },
   "outputs": [],
   "source": [
    "# TODO: Tune Parameters\n",
    "epochs = 50\n",
    "batch_size = 1028\n",
    "keep_probability = .9"
   ]
  },
  {
   "cell_type": "markdown",
   "metadata": {},
   "source": [
    "### Train on a Single CIFAR-10 Batch\n",
    "Instead of training the neural network on all the CIFAR-10 batches of data, let's use a single batch. This should save time while you iterate on the model to get a better accuracy.  Once the final validation accuracy is 50% or greater, run the model on all the data in the next section."
   ]
  },
  {
   "cell_type": "code",
   "execution_count": 17,
   "metadata": {},
   "outputs": [
    {
     "name": "stdout",
     "output_type": "stream",
     "text": [
      "Checking the Training on a Single Batch...\n",
      "Epoch  1, CIFAR-10 Batch 1:  Loss:     2.2102 Validation Accuracy: 0.152000\n",
      "Epoch  2, CIFAR-10 Batch 1:  Loss:     1.9937 Validation Accuracy: 0.267600\n",
      "Epoch  3, CIFAR-10 Batch 1:  Loss:     1.8921 Validation Accuracy: 0.322600\n",
      "Epoch  4, CIFAR-10 Batch 1:  Loss:     1.8274 Validation Accuracy: 0.325000\n",
      "Epoch  5, CIFAR-10 Batch 1:  Loss:     1.7598 Validation Accuracy: 0.337000\n",
      "Epoch  6, CIFAR-10 Batch 1:  Loss:     1.6516 Validation Accuracy: 0.401400\n",
      "Epoch  7, CIFAR-10 Batch 1:  Loss:     1.6521 Validation Accuracy: 0.385400\n",
      "Epoch  8, CIFAR-10 Batch 1:  Loss:     1.5369 Validation Accuracy: 0.425400\n",
      "Epoch  9, CIFAR-10 Batch 1:  Loss:     1.4720 Validation Accuracy: 0.432400\n",
      "Epoch 10, CIFAR-10 Batch 1:  Loss:     1.4103 Validation Accuracy: 0.447400\n",
      "Epoch 11, CIFAR-10 Batch 1:  Loss:     1.3998 Validation Accuracy: 0.438000\n",
      "Epoch 12, CIFAR-10 Batch 1:  Loss:     1.3685 Validation Accuracy: 0.468400\n",
      "Epoch 13, CIFAR-10 Batch 1:  Loss:     1.2956 Validation Accuracy: 0.471400\n",
      "Epoch 14, CIFAR-10 Batch 1:  Loss:     1.2945 Validation Accuracy: 0.475400\n",
      "Epoch 15, CIFAR-10 Batch 1:  Loss:     1.2261 Validation Accuracy: 0.501600\n",
      "Epoch 16, CIFAR-10 Batch 1:  Loss:     1.1673 Validation Accuracy: 0.501400\n",
      "Epoch 17, CIFAR-10 Batch 1:  Loss:     1.1644 Validation Accuracy: 0.500200\n",
      "Epoch 18, CIFAR-10 Batch 1:  Loss:     1.1346 Validation Accuracy: 0.509600\n",
      "Epoch 19, CIFAR-10 Batch 1:  Loss:     1.0819 Validation Accuracy: 0.517600\n",
      "Epoch 20, CIFAR-10 Batch 1:  Loss:     1.0538 Validation Accuracy: 0.520400\n",
      "Epoch 21, CIFAR-10 Batch 1:  Loss:     1.0008 Validation Accuracy: 0.523600\n",
      "Epoch 22, CIFAR-10 Batch 1:  Loss:     0.9519 Validation Accuracy: 0.533400\n",
      "Epoch 23, CIFAR-10 Batch 1:  Loss:     0.9216 Validation Accuracy: 0.535800\n",
      "Epoch 24, CIFAR-10 Batch 1:  Loss:     0.8810 Validation Accuracy: 0.544400\n",
      "Epoch 25, CIFAR-10 Batch 1:  Loss:     0.8816 Validation Accuracy: 0.549800\n",
      "Epoch 26, CIFAR-10 Batch 1:  Loss:     0.8935 Validation Accuracy: 0.531800\n",
      "Epoch 27, CIFAR-10 Batch 1:  Loss:     0.8258 Validation Accuracy: 0.547600\n",
      "Epoch 28, CIFAR-10 Batch 1:  Loss:     0.8116 Validation Accuracy: 0.540800\n",
      "Epoch 29, CIFAR-10 Batch 1:  Loss:     0.8272 Validation Accuracy: 0.540600\n",
      "Epoch 30, CIFAR-10 Batch 1:  Loss:     0.7421 Validation Accuracy: 0.552600\n",
      "Epoch 31, CIFAR-10 Batch 1:  Loss:     0.7551 Validation Accuracy: 0.546400\n",
      "Epoch 32, CIFAR-10 Batch 1:  Loss:     0.6970 Validation Accuracy: 0.555600\n",
      "Epoch 33, CIFAR-10 Batch 1:  Loss:     0.7269 Validation Accuracy: 0.545400\n",
      "Epoch 34, CIFAR-10 Batch 1:  Loss:     0.6766 Validation Accuracy: 0.551600\n",
      "Epoch 35, CIFAR-10 Batch 1:  Loss:     0.6084 Validation Accuracy: 0.558600\n",
      "Epoch 36, CIFAR-10 Batch 1:  Loss:     0.5724 Validation Accuracy: 0.561800\n",
      "Epoch 37, CIFAR-10 Batch 1:  Loss:     0.5632 Validation Accuracy: 0.565200\n",
      "Epoch 38, CIFAR-10 Batch 1:  Loss:     0.5319 Validation Accuracy: 0.563600\n",
      "Epoch 39, CIFAR-10 Batch 1:  Loss:     0.5868 Validation Accuracy: 0.538800\n",
      "Epoch 40, CIFAR-10 Batch 1:  Loss:     0.6260 Validation Accuracy: 0.535000\n",
      "Epoch 41, CIFAR-10 Batch 1:  Loss:     0.5899 Validation Accuracy: 0.535800\n",
      "Epoch 42, CIFAR-10 Batch 1:  Loss:     0.5492 Validation Accuracy: 0.537600\n",
      "Epoch 43, CIFAR-10 Batch 1:  Loss:     0.4961 Validation Accuracy: 0.541200\n",
      "Epoch 44, CIFAR-10 Batch 1:  Loss:     0.4254 Validation Accuracy: 0.556800\n",
      "Epoch 45, CIFAR-10 Batch 1:  Loss:     0.4343 Validation Accuracy: 0.550200\n",
      "Epoch 46, CIFAR-10 Batch 1:  Loss:     0.3799 Validation Accuracy: 0.569000\n",
      "Epoch 47, CIFAR-10 Batch 1:  Loss:     0.3599 Validation Accuracy: 0.557800\n",
      "Epoch 48, CIFAR-10 Batch 1:  Loss:     0.3652 Validation Accuracy: 0.553600\n",
      "Epoch 49, CIFAR-10 Batch 1:  Loss:     0.3505 Validation Accuracy: 0.554400\n",
      "Epoch 50, CIFAR-10 Batch 1:  Loss:     0.4570 Validation Accuracy: 0.534400\n",
      "0:01:31.751196\n"
     ]
    }
   ],
   "source": [
    "start = datetime.datetime.now()\n",
    "\n",
    "\"\"\"\n",
    "DON'T MODIFY ANYTHING IN THIS CELL\n",
    "\"\"\"\n",
    "print('Checking the Training on a Single Batch...')\n",
    "with tf.Session() as sess:\n",
    "    # Initializing the variables\n",
    "    sess.run(tf.global_variables_initializer())\n",
    "    \n",
    "    # Training cycle\n",
    "    for epoch in range(epochs):\n",
    "        batch_i = 1\n",
    "        for batch_features, batch_labels in helper.load_preprocess_training_batch(batch_i, batch_size):\n",
    "            train_neural_network(sess, optimizer, keep_probability, batch_features, batch_labels)\n",
    "        print('Epoch {:>2}, CIFAR-10 Batch {}:  '.format(epoch + 1, batch_i), end='')\n",
    "        print_stats(sess, batch_features, batch_labels, cost, accuracy)\n",
    "        \n",
    "end = datetime.datetime.now()\n",
    "diff = end - start\n",
    "print(diff)"
   ]
  },
  {
   "cell_type": "markdown",
   "metadata": {},
   "source": [
    "### Fully Train the Model\n",
    "Now that you got a good accuracy with a single CIFAR-10 batch, try it with all five batches."
   ]
  },
  {
   "cell_type": "code",
   "execution_count": 18,
   "metadata": {},
   "outputs": [
    {
     "name": "stdout",
     "output_type": "stream",
     "text": [
      "Training...\n",
      "Epoch  1, CIFAR-10 Batch 1:  Loss:     2.2140 Validation Accuracy: 0.198600\n",
      "Epoch  1, CIFAR-10 Batch 2:  Loss:     2.0120 Validation Accuracy: 0.270200\n",
      "Epoch  1, CIFAR-10 Batch 3:  Loss:     1.9004 Validation Accuracy: 0.296600\n",
      "Epoch  1, CIFAR-10 Batch 4:  Loss:     1.8449 Validation Accuracy: 0.318400\n",
      "Epoch  1, CIFAR-10 Batch 5:  Loss:     1.8162 Validation Accuracy: 0.339600\n",
      "Epoch  2, CIFAR-10 Batch 1:  Loss:     1.7739 Validation Accuracy: 0.361200\n",
      "Epoch  2, CIFAR-10 Batch 2:  Loss:     1.7056 Validation Accuracy: 0.383000\n",
      "Epoch  2, CIFAR-10 Batch 3:  Loss:     1.5811 Validation Accuracy: 0.413400\n",
      "Epoch  2, CIFAR-10 Batch 4:  Loss:     1.5525 Validation Accuracy: 0.435200\n",
      "Epoch  2, CIFAR-10 Batch 5:  Loss:     1.5523 Validation Accuracy: 0.440800\n",
      "Epoch  3, CIFAR-10 Batch 1:  Loss:     1.4851 Validation Accuracy: 0.455800\n",
      "Epoch  3, CIFAR-10 Batch 2:  Loss:     1.4880 Validation Accuracy: 0.459200\n",
      "Epoch  3, CIFAR-10 Batch 3:  Loss:     1.4079 Validation Accuracy: 0.469800\n",
      "Epoch  3, CIFAR-10 Batch 4:  Loss:     1.4239 Validation Accuracy: 0.475600\n",
      "Epoch  3, CIFAR-10 Batch 5:  Loss:     1.3909 Validation Accuracy: 0.494400\n",
      "Epoch  4, CIFAR-10 Batch 1:  Loss:     1.3513 Validation Accuracy: 0.493400\n",
      "Epoch  4, CIFAR-10 Batch 2:  Loss:     1.3839 Validation Accuracy: 0.502600\n",
      "Epoch  4, CIFAR-10 Batch 3:  Loss:     1.3445 Validation Accuracy: 0.483800\n",
      "Epoch  4, CIFAR-10 Batch 4:  Loss:     1.3510 Validation Accuracy: 0.491600\n",
      "Epoch  4, CIFAR-10 Batch 5:  Loss:     1.3036 Validation Accuracy: 0.511600\n",
      "Epoch  5, CIFAR-10 Batch 1:  Loss:     1.2829 Validation Accuracy: 0.519400\n",
      "Epoch  5, CIFAR-10 Batch 2:  Loss:     1.2932 Validation Accuracy: 0.520200\n",
      "Epoch  5, CIFAR-10 Batch 3:  Loss:     1.2325 Validation Accuracy: 0.528600\n",
      "Epoch  5, CIFAR-10 Batch 4:  Loss:     1.2330 Validation Accuracy: 0.526200\n",
      "Epoch  5, CIFAR-10 Batch 5:  Loss:     1.2113 Validation Accuracy: 0.537400\n",
      "Epoch  6, CIFAR-10 Batch 1:  Loss:     1.2118 Validation Accuracy: 0.528000\n",
      "Epoch  6, CIFAR-10 Batch 2:  Loss:     1.2995 Validation Accuracy: 0.497400\n",
      "Epoch  6, CIFAR-10 Batch 3:  Loss:     1.2013 Validation Accuracy: 0.529200\n",
      "Epoch  6, CIFAR-10 Batch 4:  Loss:     1.1709 Validation Accuracy: 0.543400\n",
      "Epoch  6, CIFAR-10 Batch 5:  Loss:     1.1453 Validation Accuracy: 0.548200\n",
      "Epoch  7, CIFAR-10 Batch 1:  Loss:     1.1514 Validation Accuracy: 0.547200\n",
      "Epoch  7, CIFAR-10 Batch 2:  Loss:     1.2188 Validation Accuracy: 0.520400\n",
      "Epoch  7, CIFAR-10 Batch 3:  Loss:     1.1358 Validation Accuracy: 0.552600\n",
      "Epoch  7, CIFAR-10 Batch 4:  Loss:     1.1343 Validation Accuracy: 0.550000\n",
      "Epoch  7, CIFAR-10 Batch 5:  Loss:     1.0617 Validation Accuracy: 0.572200\n",
      "Epoch  8, CIFAR-10 Batch 1:  Loss:     1.0936 Validation Accuracy: 0.562000\n",
      "Epoch  8, CIFAR-10 Batch 2:  Loss:     1.1178 Validation Accuracy: 0.547400\n",
      "Epoch  8, CIFAR-10 Batch 3:  Loss:     1.0626 Validation Accuracy: 0.571600\n",
      "Epoch  8, CIFAR-10 Batch 4:  Loss:     1.0651 Validation Accuracy: 0.568200\n",
      "Epoch  8, CIFAR-10 Batch 5:  Loss:     1.0201 Validation Accuracy: 0.582600\n",
      "Epoch  9, CIFAR-10 Batch 1:  Loss:     1.0876 Validation Accuracy: 0.550000\n",
      "Epoch  9, CIFAR-10 Batch 2:  Loss:     1.1126 Validation Accuracy: 0.544800\n",
      "Epoch  9, CIFAR-10 Batch 3:  Loss:     1.0489 Validation Accuracy: 0.561000\n",
      "Epoch  9, CIFAR-10 Batch 4:  Loss:     1.0174 Validation Accuracy: 0.582200\n",
      "Epoch  9, CIFAR-10 Batch 5:  Loss:     0.9726 Validation Accuracy: 0.585000\n",
      "Epoch 10, CIFAR-10 Batch 1:  Loss:     0.9854 Validation Accuracy: 0.589200\n",
      "Epoch 10, CIFAR-10 Batch 2:  Loss:     1.0244 Validation Accuracy: 0.575000\n",
      "Epoch 10, CIFAR-10 Batch 3:  Loss:     1.0374 Validation Accuracy: 0.580600\n",
      "Epoch 10, CIFAR-10 Batch 4:  Loss:     0.9575 Validation Accuracy: 0.599800\n",
      "Epoch 10, CIFAR-10 Batch 5:  Loss:     0.9672 Validation Accuracy: 0.584800\n",
      "Epoch 11, CIFAR-10 Batch 1:  Loss:     0.9526 Validation Accuracy: 0.601200\n",
      "Epoch 11, CIFAR-10 Batch 2:  Loss:     0.9379 Validation Accuracy: 0.601800\n",
      "Epoch 11, CIFAR-10 Batch 3:  Loss:     0.9541 Validation Accuracy: 0.596000\n",
      "Epoch 11, CIFAR-10 Batch 4:  Loss:     0.8810 Validation Accuracy: 0.616200\n",
      "Epoch 11, CIFAR-10 Batch 5:  Loss:     0.8641 Validation Accuracy: 0.614000\n",
      "Epoch 12, CIFAR-10 Batch 1:  Loss:     0.9134 Validation Accuracy: 0.605800\n",
      "Epoch 12, CIFAR-10 Batch 2:  Loss:     0.9806 Validation Accuracy: 0.593400\n",
      "Epoch 12, CIFAR-10 Batch 3:  Loss:     0.9638 Validation Accuracy: 0.594800\n",
      "Epoch 12, CIFAR-10 Batch 4:  Loss:     0.8474 Validation Accuracy: 0.614000\n",
      "Epoch 12, CIFAR-10 Batch 5:  Loss:     0.8535 Validation Accuracy: 0.610800\n",
      "Epoch 13, CIFAR-10 Batch 1:  Loss:     0.8703 Validation Accuracy: 0.611200\n",
      "Epoch 13, CIFAR-10 Batch 2:  Loss:     0.9280 Validation Accuracy: 0.595000\n",
      "Epoch 13, CIFAR-10 Batch 3:  Loss:     0.9400 Validation Accuracy: 0.594000\n",
      "Epoch 13, CIFAR-10 Batch 4:  Loss:     0.8092 Validation Accuracy: 0.618000\n",
      "Epoch 13, CIFAR-10 Batch 5:  Loss:     0.7754 Validation Accuracy: 0.628200\n",
      "Epoch 14, CIFAR-10 Batch 1:  Loss:     0.8050 Validation Accuracy: 0.625800\n",
      "Epoch 14, CIFAR-10 Batch 2:  Loss:     0.8650 Validation Accuracy: 0.608600\n",
      "Epoch 14, CIFAR-10 Batch 3:  Loss:     0.8421 Validation Accuracy: 0.617800\n",
      "Epoch 14, CIFAR-10 Batch 4:  Loss:     0.7627 Validation Accuracy: 0.633000\n",
      "Epoch 14, CIFAR-10 Batch 5:  Loss:     0.7212 Validation Accuracy: 0.637800\n",
      "Epoch 15, CIFAR-10 Batch 1:  Loss:     0.7649 Validation Accuracy: 0.634800\n",
      "Epoch 15, CIFAR-10 Batch 2:  Loss:     0.8042 Validation Accuracy: 0.613800\n",
      "Epoch 15, CIFAR-10 Batch 3:  Loss:     0.7564 Validation Accuracy: 0.644200\n",
      "Epoch 15, CIFAR-10 Batch 4:  Loss:     0.7323 Validation Accuracy: 0.633600\n",
      "Epoch 15, CIFAR-10 Batch 5:  Loss:     0.7039 Validation Accuracy: 0.634200\n",
      "Epoch 16, CIFAR-10 Batch 1:  Loss:     0.7411 Validation Accuracy: 0.631200\n",
      "Epoch 16, CIFAR-10 Batch 2:  Loss:     0.7520 Validation Accuracy: 0.621600\n",
      "Epoch 16, CIFAR-10 Batch 3:  Loss:     0.7387 Validation Accuracy: 0.639800\n",
      "Epoch 16, CIFAR-10 Batch 4:  Loss:     0.7260 Validation Accuracy: 0.621600\n",
      "Epoch 16, CIFAR-10 Batch 5:  Loss:     0.6570 Validation Accuracy: 0.640800\n",
      "Epoch 17, CIFAR-10 Batch 1:  Loss:     0.7321 Validation Accuracy: 0.623600\n",
      "Epoch 17, CIFAR-10 Batch 2:  Loss:     0.7888 Validation Accuracy: 0.612400\n",
      "Epoch 17, CIFAR-10 Batch 3:  Loss:     0.7618 Validation Accuracy: 0.627400\n",
      "Epoch 17, CIFAR-10 Batch 4:  Loss:     0.6891 Validation Accuracy: 0.634400\n",
      "Epoch 17, CIFAR-10 Batch 5:  Loss:     0.6362 Validation Accuracy: 0.647000\n",
      "Epoch 18, CIFAR-10 Batch 1:  Loss:     0.6941 Validation Accuracy: 0.626400\n",
      "Epoch 18, CIFAR-10 Batch 2:  Loss:     0.7681 Validation Accuracy: 0.618600\n",
      "Epoch 18, CIFAR-10 Batch 3:  Loss:     0.7485 Validation Accuracy: 0.634800\n",
      "Epoch 18, CIFAR-10 Batch 4:  Loss:     0.6568 Validation Accuracy: 0.640400\n",
      "Epoch 18, CIFAR-10 Batch 5:  Loss:     0.6106 Validation Accuracy: 0.641600\n",
      "Epoch 19, CIFAR-10 Batch 1:  Loss:     0.6408 Validation Accuracy: 0.632600\n",
      "Epoch 19, CIFAR-10 Batch 2:  Loss:     0.6870 Validation Accuracy: 0.638200\n",
      "Epoch 19, CIFAR-10 Batch 3:  Loss:     0.6867 Validation Accuracy: 0.637000\n",
      "Epoch 19, CIFAR-10 Batch 4:  Loss:     0.6730 Validation Accuracy: 0.629600\n",
      "Epoch 19, CIFAR-10 Batch 5:  Loss:     0.6066 Validation Accuracy: 0.631600\n",
      "Epoch 20, CIFAR-10 Batch 1:  Loss:     0.6033 Validation Accuracy: 0.645400\n",
      "Epoch 20, CIFAR-10 Batch 2:  Loss:     0.6698 Validation Accuracy: 0.634800\n",
      "Epoch 20, CIFAR-10 Batch 3:  Loss:     0.6503 Validation Accuracy: 0.646200\n",
      "Epoch 20, CIFAR-10 Batch 4:  Loss:     0.6302 Validation Accuracy: 0.637000\n",
      "Epoch 20, CIFAR-10 Batch 5:  Loss:     0.5502 Validation Accuracy: 0.645600\n",
      "Epoch 21, CIFAR-10 Batch 1:  Loss:     0.5592 Validation Accuracy: 0.653200\n",
      "Epoch 21, CIFAR-10 Batch 2:  Loss:     0.6318 Validation Accuracy: 0.637800\n",
      "Epoch 21, CIFAR-10 Batch 3:  Loss:     0.6392 Validation Accuracy: 0.642000\n",
      "Epoch 21, CIFAR-10 Batch 4:  Loss:     0.5728 Validation Accuracy: 0.646200\n",
      "Epoch 21, CIFAR-10 Batch 5:  Loss:     0.5309 Validation Accuracy: 0.649800\n",
      "Epoch 22, CIFAR-10 Batch 1:  Loss:     0.5213 Validation Accuracy: 0.661600\n",
      "Epoch 22, CIFAR-10 Batch 2:  Loss:     0.5794 Validation Accuracy: 0.644200\n",
      "Epoch 22, CIFAR-10 Batch 3:  Loss:     0.5963 Validation Accuracy: 0.641000\n"
     ]
    },
    {
     "name": "stdout",
     "output_type": "stream",
     "text": [
      "Epoch 22, CIFAR-10 Batch 4:  Loss:     0.5409 Validation Accuracy: 0.645600\n",
      "Epoch 22, CIFAR-10 Batch 5:  Loss:     0.5032 Validation Accuracy: 0.646800\n",
      "Epoch 23, CIFAR-10 Batch 1:  Loss:     0.5154 Validation Accuracy: 0.654800\n",
      "Epoch 23, CIFAR-10 Batch 2:  Loss:     0.5826 Validation Accuracy: 0.640600\n",
      "Epoch 23, CIFAR-10 Batch 3:  Loss:     0.5695 Validation Accuracy: 0.642000\n",
      "Epoch 23, CIFAR-10 Batch 4:  Loss:     0.5660 Validation Accuracy: 0.624000\n",
      "Epoch 23, CIFAR-10 Batch 5:  Loss:     0.5108 Validation Accuracy: 0.640800\n",
      "Epoch 24, CIFAR-10 Batch 1:  Loss:     0.5484 Validation Accuracy: 0.637600\n",
      "Epoch 24, CIFAR-10 Batch 2:  Loss:     0.6155 Validation Accuracy: 0.620400\n",
      "Epoch 24, CIFAR-10 Batch 3:  Loss:     0.5685 Validation Accuracy: 0.641400\n",
      "Epoch 24, CIFAR-10 Batch 4:  Loss:     0.5407 Validation Accuracy: 0.644000\n",
      "Epoch 24, CIFAR-10 Batch 5:  Loss:     0.4887 Validation Accuracy: 0.655600\n",
      "Epoch 25, CIFAR-10 Batch 1:  Loss:     0.5180 Validation Accuracy: 0.641000\n",
      "Epoch 25, CIFAR-10 Batch 2:  Loss:     0.5385 Validation Accuracy: 0.653800\n",
      "Epoch 25, CIFAR-10 Batch 3:  Loss:     0.5915 Validation Accuracy: 0.634200\n",
      "Epoch 25, CIFAR-10 Batch 4:  Loss:     0.5601 Validation Accuracy: 0.630400\n",
      "Epoch 25, CIFAR-10 Batch 5:  Loss:     0.5297 Validation Accuracy: 0.632000\n",
      "Epoch 26, CIFAR-10 Batch 1:  Loss:     0.4960 Validation Accuracy: 0.647800\n",
      "Epoch 26, CIFAR-10 Batch 2:  Loss:     0.5808 Validation Accuracy: 0.640200\n",
      "Epoch 26, CIFAR-10 Batch 3:  Loss:     0.5387 Validation Accuracy: 0.647800\n",
      "Epoch 26, CIFAR-10 Batch 4:  Loss:     0.4910 Validation Accuracy: 0.644000\n",
      "Epoch 26, CIFAR-10 Batch 5:  Loss:     0.4772 Validation Accuracy: 0.651600\n",
      "Epoch 27, CIFAR-10 Batch 1:  Loss:     0.4513 Validation Accuracy: 0.653600\n",
      "Epoch 27, CIFAR-10 Batch 2:  Loss:     0.5441 Validation Accuracy: 0.649000\n",
      "Epoch 27, CIFAR-10 Batch 3:  Loss:     0.5166 Validation Accuracy: 0.648800\n",
      "Epoch 27, CIFAR-10 Batch 4:  Loss:     0.4908 Validation Accuracy: 0.640000\n",
      "Epoch 27, CIFAR-10 Batch 5:  Loss:     0.4421 Validation Accuracy: 0.650600\n",
      "Epoch 28, CIFAR-10 Batch 1:  Loss:     0.3941 Validation Accuracy: 0.656600\n",
      "Epoch 28, CIFAR-10 Batch 2:  Loss:     0.4868 Validation Accuracy: 0.658000\n",
      "Epoch 28, CIFAR-10 Batch 3:  Loss:     0.4751 Validation Accuracy: 0.653800\n",
      "Epoch 28, CIFAR-10 Batch 4:  Loss:     0.4970 Validation Accuracy: 0.634400\n",
      "Epoch 28, CIFAR-10 Batch 5:  Loss:     0.4446 Validation Accuracy: 0.650800\n",
      "Epoch 29, CIFAR-10 Batch 1:  Loss:     0.4497 Validation Accuracy: 0.644200\n",
      "Epoch 29, CIFAR-10 Batch 2:  Loss:     0.4416 Validation Accuracy: 0.660200\n",
      "Epoch 29, CIFAR-10 Batch 3:  Loss:     0.5008 Validation Accuracy: 0.637400\n",
      "Epoch 29, CIFAR-10 Batch 4:  Loss:     0.6061 Validation Accuracy: 0.605800\n",
      "Epoch 29, CIFAR-10 Batch 5:  Loss:     0.4727 Validation Accuracy: 0.639800\n",
      "Epoch 30, CIFAR-10 Batch 1:  Loss:     0.4301 Validation Accuracy: 0.652000\n",
      "Epoch 30, CIFAR-10 Batch 2:  Loss:     0.5009 Validation Accuracy: 0.627400\n",
      "Epoch 30, CIFAR-10 Batch 3:  Loss:     0.4752 Validation Accuracy: 0.641800\n",
      "Epoch 30, CIFAR-10 Batch 4:  Loss:     0.4483 Validation Accuracy: 0.638600\n",
      "Epoch 30, CIFAR-10 Batch 5:  Loss:     0.4259 Validation Accuracy: 0.639600\n",
      "Epoch 31, CIFAR-10 Batch 1:  Loss:     0.3858 Validation Accuracy: 0.647600\n",
      "Epoch 31, CIFAR-10 Batch 2:  Loss:     0.4730 Validation Accuracy: 0.627000\n",
      "Epoch 31, CIFAR-10 Batch 3:  Loss:     0.4679 Validation Accuracy: 0.652400\n",
      "Epoch 31, CIFAR-10 Batch 4:  Loss:     0.4348 Validation Accuracy: 0.645800\n",
      "Epoch 31, CIFAR-10 Batch 5:  Loss:     0.4473 Validation Accuracy: 0.608800\n",
      "Epoch 32, CIFAR-10 Batch 1:  Loss:     0.4104 Validation Accuracy: 0.640200\n",
      "Epoch 32, CIFAR-10 Batch 2:  Loss:     0.4021 Validation Accuracy: 0.638600\n",
      "Epoch 32, CIFAR-10 Batch 3:  Loss:     0.4154 Validation Accuracy: 0.658200\n",
      "Epoch 32, CIFAR-10 Batch 4:  Loss:     0.3949 Validation Accuracy: 0.647000\n",
      "Epoch 32, CIFAR-10 Batch 5:  Loss:     0.3924 Validation Accuracy: 0.623800\n",
      "Epoch 33, CIFAR-10 Batch 1:  Loss:     0.3578 Validation Accuracy: 0.640000\n",
      "Epoch 33, CIFAR-10 Batch 2:  Loss:     0.4199 Validation Accuracy: 0.633800\n",
      "Epoch 33, CIFAR-10 Batch 3:  Loss:     0.4241 Validation Accuracy: 0.644800\n",
      "Epoch 33, CIFAR-10 Batch 4:  Loss:     0.4242 Validation Accuracy: 0.629800\n",
      "Epoch 33, CIFAR-10 Batch 5:  Loss:     0.3316 Validation Accuracy: 0.643800\n",
      "Epoch 34, CIFAR-10 Batch 1:  Loss:     0.3453 Validation Accuracy: 0.643000\n",
      "Epoch 34, CIFAR-10 Batch 2:  Loss:     0.3883 Validation Accuracy: 0.638000\n",
      "Epoch 34, CIFAR-10 Batch 3:  Loss:     0.4439 Validation Accuracy: 0.632600\n",
      "Epoch 34, CIFAR-10 Batch 4:  Loss:     0.4397 Validation Accuracy: 0.620200\n",
      "Epoch 34, CIFAR-10 Batch 5:  Loss:     0.3424 Validation Accuracy: 0.642800\n",
      "Epoch 35, CIFAR-10 Batch 1:  Loss:     0.3973 Validation Accuracy: 0.627200\n",
      "Epoch 35, CIFAR-10 Batch 2:  Loss:     0.3706 Validation Accuracy: 0.632600\n",
      "Epoch 35, CIFAR-10 Batch 3:  Loss:     0.3780 Validation Accuracy: 0.655800\n",
      "Epoch 35, CIFAR-10 Batch 4:  Loss:     0.3859 Validation Accuracy: 0.636400\n",
      "Epoch 35, CIFAR-10 Batch 5:  Loss:     0.3500 Validation Accuracy: 0.639000\n",
      "Epoch 36, CIFAR-10 Batch 1:  Loss:     0.3490 Validation Accuracy: 0.640000\n",
      "Epoch 36, CIFAR-10 Batch 2:  Loss:     0.3591 Validation Accuracy: 0.619800\n",
      "Epoch 36, CIFAR-10 Batch 3:  Loss:     0.3961 Validation Accuracy: 0.636600\n",
      "Epoch 36, CIFAR-10 Batch 4:  Loss:     0.3448 Validation Accuracy: 0.639200\n",
      "Epoch 36, CIFAR-10 Batch 5:  Loss:     0.3860 Validation Accuracy: 0.616600\n",
      "Epoch 37, CIFAR-10 Batch 1:  Loss:     0.3380 Validation Accuracy: 0.643600\n",
      "Epoch 37, CIFAR-10 Batch 2:  Loss:     0.3243 Validation Accuracy: 0.636200\n",
      "Epoch 37, CIFAR-10 Batch 3:  Loss:     0.4205 Validation Accuracy: 0.625400\n",
      "Epoch 37, CIFAR-10 Batch 4:  Loss:     0.3367 Validation Accuracy: 0.642000\n",
      "Epoch 37, CIFAR-10 Batch 5:  Loss:     0.3269 Validation Accuracy: 0.631400\n",
      "Epoch 38, CIFAR-10 Batch 1:  Loss:     0.3416 Validation Accuracy: 0.633000\n",
      "Epoch 38, CIFAR-10 Batch 2:  Loss:     0.3077 Validation Accuracy: 0.638600\n",
      "Epoch 38, CIFAR-10 Batch 3:  Loss:     0.3347 Validation Accuracy: 0.639800\n",
      "Epoch 38, CIFAR-10 Batch 4:  Loss:     0.4059 Validation Accuracy: 0.627000\n",
      "Epoch 38, CIFAR-10 Batch 5:  Loss:     0.2780 Validation Accuracy: 0.650200\n",
      "Epoch 39, CIFAR-10 Batch 1:  Loss:     0.2975 Validation Accuracy: 0.640600\n",
      "Epoch 39, CIFAR-10 Batch 2:  Loss:     0.2947 Validation Accuracy: 0.649200\n",
      "Epoch 39, CIFAR-10 Batch 3:  Loss:     0.3816 Validation Accuracy: 0.635400\n",
      "Epoch 39, CIFAR-10 Batch 4:  Loss:     0.3430 Validation Accuracy: 0.639800\n",
      "Epoch 39, CIFAR-10 Batch 5:  Loss:     0.2889 Validation Accuracy: 0.654200\n",
      "Epoch 40, CIFAR-10 Batch 1:  Loss:     0.2942 Validation Accuracy: 0.645000\n",
      "Epoch 40, CIFAR-10 Batch 2:  Loss:     0.2972 Validation Accuracy: 0.646000\n",
      "Epoch 40, CIFAR-10 Batch 3:  Loss:     0.3596 Validation Accuracy: 0.638000\n",
      "Epoch 40, CIFAR-10 Batch 4:  Loss:     0.2995 Validation Accuracy: 0.646800\n",
      "Epoch 40, CIFAR-10 Batch 5:  Loss:     0.2848 Validation Accuracy: 0.645200\n",
      "Epoch 41, CIFAR-10 Batch 1:  Loss:     0.2618 Validation Accuracy: 0.646800\n",
      "Epoch 41, CIFAR-10 Batch 2:  Loss:     0.2637 Validation Accuracy: 0.645600\n",
      "Epoch 41, CIFAR-10 Batch 3:  Loss:     0.3426 Validation Accuracy: 0.637400\n",
      "Epoch 41, CIFAR-10 Batch 4:  Loss:     0.3955 Validation Accuracy: 0.627600\n",
      "Epoch 41, CIFAR-10 Batch 5:  Loss:     0.3254 Validation Accuracy: 0.629800\n",
      "Epoch 42, CIFAR-10 Batch 1:  Loss:     0.2622 Validation Accuracy: 0.652600\n",
      "Epoch 42, CIFAR-10 Batch 2:  Loss:     0.2707 Validation Accuracy: 0.637200\n",
      "Epoch 42, CIFAR-10 Batch 3:  Loss:     0.2754 Validation Accuracy: 0.644600\n",
      "Epoch 42, CIFAR-10 Batch 4:  Loss:     0.4033 Validation Accuracy: 0.616000\n",
      "Epoch 42, CIFAR-10 Batch 5:  Loss:     0.2618 Validation Accuracy: 0.644200\n",
      "Epoch 43, CIFAR-10 Batch 1:  Loss:     0.2423 Validation Accuracy: 0.646200\n",
      "Epoch 43, CIFAR-10 Batch 2:  Loss:     0.2270 Validation Accuracy: 0.645400\n",
      "Epoch 43, CIFAR-10 Batch 3:  Loss:     0.3140 Validation Accuracy: 0.626000\n",
      "Epoch 43, CIFAR-10 Batch 4:  Loss:     0.3289 Validation Accuracy: 0.626000\n",
      "Epoch 43, CIFAR-10 Batch 5:  Loss:     0.2647 Validation Accuracy: 0.643800\n",
      "Epoch 44, CIFAR-10 Batch 1:  Loss:     0.2544 Validation Accuracy: 0.644400\n"
     ]
    },
    {
     "name": "stdout",
     "output_type": "stream",
     "text": [
      "Epoch 44, CIFAR-10 Batch 2:  Loss:     0.2314 Validation Accuracy: 0.648400\n",
      "Epoch 44, CIFAR-10 Batch 3:  Loss:     0.3302 Validation Accuracy: 0.631400\n",
      "Epoch 44, CIFAR-10 Batch 4:  Loss:     0.3091 Validation Accuracy: 0.625200\n",
      "Epoch 44, CIFAR-10 Batch 5:  Loss:     0.2200 Validation Accuracy: 0.649400\n",
      "Epoch 45, CIFAR-10 Batch 1:  Loss:     0.2433 Validation Accuracy: 0.647200\n",
      "Epoch 45, CIFAR-10 Batch 2:  Loss:     0.2010 Validation Accuracy: 0.648200\n",
      "Epoch 45, CIFAR-10 Batch 3:  Loss:     0.2410 Validation Accuracy: 0.644000\n",
      "Epoch 45, CIFAR-10 Batch 4:  Loss:     0.3121 Validation Accuracy: 0.625400\n",
      "Epoch 45, CIFAR-10 Batch 5:  Loss:     0.2471 Validation Accuracy: 0.638800\n",
      "Epoch 46, CIFAR-10 Batch 1:  Loss:     0.2832 Validation Accuracy: 0.638000\n",
      "Epoch 46, CIFAR-10 Batch 2:  Loss:     0.2306 Validation Accuracy: 0.644800\n",
      "Epoch 46, CIFAR-10 Batch 3:  Loss:     0.3110 Validation Accuracy: 0.621400\n",
      "Epoch 46, CIFAR-10 Batch 4:  Loss:     0.3507 Validation Accuracy: 0.623200\n",
      "Epoch 46, CIFAR-10 Batch 5:  Loss:     0.3372 Validation Accuracy: 0.613000\n",
      "Epoch 47, CIFAR-10 Batch 1:  Loss:     0.2878 Validation Accuracy: 0.631000\n",
      "Epoch 47, CIFAR-10 Batch 2:  Loss:     0.3037 Validation Accuracy: 0.636000\n",
      "Epoch 47, CIFAR-10 Batch 3:  Loss:     0.2576 Validation Accuracy: 0.633200\n",
      "Epoch 47, CIFAR-10 Batch 4:  Loss:     0.2718 Validation Accuracy: 0.634600\n",
      "Epoch 47, CIFAR-10 Batch 5:  Loss:     0.2405 Validation Accuracy: 0.638800\n",
      "Epoch 48, CIFAR-10 Batch 1:  Loss:     0.2445 Validation Accuracy: 0.644800\n",
      "Epoch 48, CIFAR-10 Batch 2:  Loss:     0.2489 Validation Accuracy: 0.645000\n",
      "Epoch 48, CIFAR-10 Batch 3:  Loss:     0.2165 Validation Accuracy: 0.633400\n",
      "Epoch 48, CIFAR-10 Batch 4:  Loss:     0.2212 Validation Accuracy: 0.641400\n",
      "Epoch 48, CIFAR-10 Batch 5:  Loss:     0.3076 Validation Accuracy: 0.626800\n",
      "Epoch 49, CIFAR-10 Batch 1:  Loss:     0.2469 Validation Accuracy: 0.639400\n",
      "Epoch 49, CIFAR-10 Batch 2:  Loss:     0.2529 Validation Accuracy: 0.635800\n",
      "Epoch 49, CIFAR-10 Batch 3:  Loss:     0.2050 Validation Accuracy: 0.644400\n",
      "Epoch 49, CIFAR-10 Batch 4:  Loss:     0.2099 Validation Accuracy: 0.637600\n",
      "Epoch 49, CIFAR-10 Batch 5:  Loss:     0.1883 Validation Accuracy: 0.634000\n",
      "Epoch 50, CIFAR-10 Batch 1:  Loss:     0.2599 Validation Accuracy: 0.626400\n",
      "Epoch 50, CIFAR-10 Batch 2:  Loss:     0.2789 Validation Accuracy: 0.625000\n",
      "Epoch 50, CIFAR-10 Batch 3:  Loss:     0.2468 Validation Accuracy: 0.628200\n",
      "Epoch 50, CIFAR-10 Batch 4:  Loss:     0.2110 Validation Accuracy: 0.628200\n",
      "Epoch 50, CIFAR-10 Batch 5:  Loss:     0.1855 Validation Accuracy: 0.633200\n",
      "0:07:33.680459\n"
     ]
    }
   ],
   "source": [
    "start = datetime.datetime.now()\n",
    "\n",
    "\"\"\"\n",
    "DON'T MODIFY ANYTHING IN THIS CELL\n",
    "\"\"\"\n",
    "save_model_path = './image_classification'\n",
    "\n",
    "print('Training...')\n",
    "with tf.Session() as sess:\n",
    "    # Initializing the variables\n",
    "    sess.run(tf.global_variables_initializer())\n",
    "    \n",
    "    # Training cycle\n",
    "    for epoch in range(epochs):\n",
    "        # Loop over all batches\n",
    "        n_batches = 5\n",
    "        for batch_i in range(1, n_batches + 1):\n",
    "            for batch_features, batch_labels in helper.load_preprocess_training_batch(batch_i, batch_size):\n",
    "                train_neural_network(sess, optimizer, keep_probability, batch_features, batch_labels)\n",
    "            print('Epoch {:>2}, CIFAR-10 Batch {}:  '.format(epoch + 1, batch_i), end='')\n",
    "            print_stats(sess, batch_features, batch_labels, cost, accuracy)\n",
    "            \n",
    "    # Save Model\n",
    "    saver = tf.train.Saver()\n",
    "    save_path = saver.save(sess, save_model_path)\n",
    "\n",
    "end = datetime.datetime.now()\n",
    "diff = end - start\n",
    "print(diff)"
   ]
  },
  {
   "cell_type": "markdown",
   "metadata": {},
   "source": [
    "# Checkpoint\n",
    "The model has been saved to disk.\n",
    "## Test Model\n",
    "Test your model against the test dataset.  This will be your final accuracy. You should have an accuracy greater than 50%. If you don't, keep tweaking the model architecture and parameters."
   ]
  },
  {
   "cell_type": "code",
   "execution_count": 19,
   "metadata": {},
   "outputs": [
    {
     "name": "stdout",
     "output_type": "stream",
     "text": [
      "INFO:tensorflow:Restoring parameters from ./image_classification\n",
      "Testing Accuracy: 0.6280956506729126\n",
      "\n"
     ]
    },
    {
     "data": {
      "image/png": "[encoded data removed]",
      "text/plain": [
       "<matplotlib.figure.Figure at 0x7ff1c870c780>"
      ]
     },
     "metadata": {
      "image/png": {
       "height": 319,
       "width": 355
      }
     },
     "output_type": "display_data"
    }
   ],
   "source": [
    "\"\"\"\n",
    "DON'T MODIFY ANYTHING IN THIS CELL\n",
    "\"\"\"\n",
    "%matplotlib inline\n",
    "%config InlineBackend.figure_format = 'retina'\n",
    "\n",
    "import tensorflow as tf\n",
    "import pickle\n",
    "import helper\n",
    "import random\n",
    "\n",
    "# Set batch size if not already set\n",
    "try:\n",
    "    if batch_size:\n",
    "        pass\n",
    "except NameError:\n",
    "    batch_size = 64\n",
    "\n",
    "save_model_path = './image_classification'\n",
    "n_samples = 4\n",
    "top_n_predictions = 3\n",
    "\n",
    "def test_model():\n",
    "    \"\"\"\n",
    "    Test the saved model against the test dataset\n",
    "    \"\"\"\n",
    "\n",
    "    test_features, test_labels = pickle.load(open('preprocess_test.p', mode='rb'))\n",
    "    loaded_graph = tf.Graph()\n",
    "\n",
    "    with tf.Session(graph=loaded_graph) as sess:\n",
    "        # Load model\n",
    "        loader = tf.train.import_meta_graph(save_model_path + '.meta')\n",
    "        loader.restore(sess, save_model_path)\n",
    "\n",
    "        # Get Tensors from loaded model\n",
    "        loaded_x = loaded_graph.get_tensor_by_name('x:0')\n",
    "        loaded_y = loaded_graph.get_tensor_by_name('y:0')\n",
    "        loaded_keep_prob = loaded_graph.get_tensor_by_name('keep_prob:0')\n",
    "        loaded_logits = loaded_graph.get_tensor_by_name('logits:0')\n",
    "        loaded_acc = loaded_graph.get_tensor_by_name('accuracy:0')\n",
    "        \n",
    "        # Get accuracy in batches for memory limitations\n",
    "        test_batch_acc_total = 0\n",
    "        test_batch_count = 0\n",
    "        \n",
    "        for test_feature_batch, test_label_batch in helper.batch_features_labels(test_features, test_labels, batch_size):\n",
    "            test_batch_acc_total += sess.run(\n",
    "                loaded_acc,\n",
    "                feed_dict={loaded_x: test_feature_batch, loaded_y: test_label_batch, loaded_keep_prob: 1.0})\n",
    "            test_batch_count += 1\n",
    "\n",
    "        print('Testing Accuracy: {}\\n'.format(test_batch_acc_total/test_batch_count))\n",
    "\n",
    "        # Print Random Samples\n",
    "        random_test_features, random_test_labels = tuple(zip(*random.sample(list(zip(test_features, test_labels)), n_samples)))\n",
    "        random_test_predictions = sess.run(\n",
    "            tf.nn.top_k(tf.nn.softmax(loaded_logits), top_n_predictions),\n",
    "            feed_dict={loaded_x: random_test_features, loaded_y: random_test_labels, loaded_keep_prob: 1.0})\n",
    "        helper.display_image_predictions(random_test_features, random_test_labels, random_test_predictions)\n",
    "\n",
    "\n",
    "test_model()"
   ]
  },
  {
   "cell_type": "markdown",
   "metadata": {},
   "source": [
    "## Why 50-80% Accuracy?\n",
    "You might be wondering why you can't get an accuracy any higher. First things first, 50% isn't bad for a simple CNN.  Pure guessing would get you 10% accuracy. However, you might notice people are getting scores [well above 80%](http://rodrigob.github.io/are_we_there_yet/build/classification_datasets_results.html#43494641522d3130).  That's because we haven't taught you all there is to know about neural networks. We still need to cover a few more techniques.\n",
    "## Submitting This Project\n",
    "When submitting this project, make sure to run all the cells before saving the notebook.  Save the notebook file as \"dlnd_image_classification.ipynb\" and save it as a HTML file under \"File\" -> \"Download as\".  Include the \"helper.py\" and \"problem_unittests.py\" files in your submission."
   ]
  }
 ],
 "metadata": {
  "kernelspec": {
   "display_name": "Python 3",
   "language": "python",
   "name": "python3"
  },
  "language_info": {
   "codemirror_mode": {
    "name": "ipython",
    "version": 3
   },
   "file_extension": ".py",
   "mimetype": "text/x-python",
   "name": "python",
   "nbconvert_exporter": "python",
   "pygments_lexer": "ipython3",
   "version": "3.5.3"
  }
 },
 "nbformat": 4,
 "nbformat_minor": 1
}
